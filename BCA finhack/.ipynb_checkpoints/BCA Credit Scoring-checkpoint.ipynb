{
 "cells": [
  {
   "cell_type": "code",
   "execution_count": 1,
   "metadata": {},
   "outputs": [],
   "source": [
    "%matplotlib inline\n",
    "import pandas as pd\n",
    "import numpy as np\n",
    "from matplotlib import pyplot as plt\n",
    "import seaborn as sns\n",
    "from collections import Counter"
   ]
  },
  {
   "cell_type": "code",
   "execution_count": 2,
   "metadata": {},
   "outputs": [],
   "source": [
    "df_train = (pd.read_csv('npl_train.csv')).rename(columns={'X' : 'id'})"
   ]
  },
  {
   "cell_type": "code",
   "execution_count": 3,
   "metadata": {},
   "outputs": [
    {
     "name": "stdout",
     "output_type": "stream",
     "text": [
      "<class 'pandas.core.frame.DataFrame'>\n",
      "RangeIndex: 15493 entries, 0 to 15492\n",
      "Data columns (total 24 columns):\n",
      "id                                     15493 non-null int64\n",
      "jumlah_kartu                           15493 non-null int64\n",
      "outstanding                            15493 non-null int64\n",
      "limit_kredit                           15493 non-null float64\n",
      "tagihan                                15493 non-null float64\n",
      "total_pemakaian_tunai                  15493 non-null float64\n",
      "total_pemakaian_retail                 15493 non-null float64\n",
      "sisa_tagihan_tidak_terbayar            15493 non-null float64\n",
      "kode_cabang                            15393 non-null object\n",
      "rasio_pembayaran                       15493 non-null float64\n",
      "persentasi_overlimit                   15493 non-null float64\n",
      "rasio_pembayaran_3bulan                15493 non-null float64\n",
      "rasio_pembayaran_6bulan                15493 non-null float64\n",
      "skor_delikuensi                        15493 non-null int64\n",
      "flag_kredit_macet                      15493 non-null int64\n",
      "jumlah_tahun_sejak_pembukaan_kredit    15493 non-null float64\n",
      "total_pemakaian                        15493 non-null float64\n",
      "sisa_tagihan_per_jumlah_kartu          15493 non-null float64\n",
      "sisa_tagihan_per_limit                 15493 non-null float64\n",
      "total_pemakaian_per_limit              15493 non-null float64\n",
      "pemakaian_3bln_per_limit               15493 non-null float64\n",
      "pemakaian_6bln_per_limit               15493 non-null float64\n",
      "utilisasi_3bulan                       15493 non-null float64\n",
      "utilisasi_6bulan                       15493 non-null float64\n",
      "dtypes: float64(18), int64(5), object(1)\n",
      "memory usage: 2.8+ MB\n"
     ]
    }
   ],
   "source": [
    "df_train.info()"
   ]
  },
  {
   "cell_type": "code",
   "execution_count": 4,
   "metadata": {},
   "outputs": [
    {
     "data": {
      "text/html": [
       "<div>\n",
       "<style scoped>\n",
       "    .dataframe tbody tr th:only-of-type {\n",
       "        vertical-align: middle;\n",
       "    }\n",
       "\n",
       "    .dataframe tbody tr th {\n",
       "        vertical-align: top;\n",
       "    }\n",
       "\n",
       "    .dataframe thead th {\n",
       "        text-align: right;\n",
       "    }\n",
       "</style>\n",
       "<table border=\"1\" class=\"dataframe\">\n",
       "  <thead>\n",
       "    <tr style=\"text-align: right;\">\n",
       "      <th></th>\n",
       "      <th>id</th>\n",
       "      <th>jumlah_kartu</th>\n",
       "      <th>outstanding</th>\n",
       "      <th>limit_kredit</th>\n",
       "      <th>tagihan</th>\n",
       "      <th>total_pemakaian_tunai</th>\n",
       "      <th>total_pemakaian_retail</th>\n",
       "      <th>sisa_tagihan_tidak_terbayar</th>\n",
       "      <th>rasio_pembayaran</th>\n",
       "      <th>persentasi_overlimit</th>\n",
       "      <th>...</th>\n",
       "      <th>flag_kredit_macet</th>\n",
       "      <th>jumlah_tahun_sejak_pembukaan_kredit</th>\n",
       "      <th>total_pemakaian</th>\n",
       "      <th>sisa_tagihan_per_jumlah_kartu</th>\n",
       "      <th>sisa_tagihan_per_limit</th>\n",
       "      <th>total_pemakaian_per_limit</th>\n",
       "      <th>pemakaian_3bln_per_limit</th>\n",
       "      <th>pemakaian_6bln_per_limit</th>\n",
       "      <th>utilisasi_3bulan</th>\n",
       "      <th>utilisasi_6bulan</th>\n",
       "    </tr>\n",
       "  </thead>\n",
       "  <tbody>\n",
       "    <tr>\n",
       "      <th>count</th>\n",
       "      <td>15493.000000</td>\n",
       "      <td>15493.000000</td>\n",
       "      <td>1.549300e+04</td>\n",
       "      <td>1.549300e+04</td>\n",
       "      <td>1.549300e+04</td>\n",
       "      <td>1.549300e+04</td>\n",
       "      <td>1.549300e+04</td>\n",
       "      <td>1.549300e+04</td>\n",
       "      <td>15493.00000</td>\n",
       "      <td>15493.000000</td>\n",
       "      <td>...</td>\n",
       "      <td>15493.000000</td>\n",
       "      <td>15493.000000</td>\n",
       "      <td>1.549300e+04</td>\n",
       "      <td>1.549300e+04</td>\n",
       "      <td>15493.000000</td>\n",
       "      <td>15493.000000</td>\n",
       "      <td>15493.000000</td>\n",
       "      <td>15493.000000</td>\n",
       "      <td>15493.000000</td>\n",
       "      <td>15493.000000</td>\n",
       "    </tr>\n",
       "    <tr>\n",
       "      <th>mean</th>\n",
       "      <td>7747.000000</td>\n",
       "      <td>2.506551</td>\n",
       "      <td>1.159833e+07</td>\n",
       "      <td>2.079833e+07</td>\n",
       "      <td>8.078663e+06</td>\n",
       "      <td>7.453291e+04</td>\n",
       "      <td>2.025857e+06</td>\n",
       "      <td>8.140875e+06</td>\n",
       "      <td>64.64712</td>\n",
       "      <td>3.343533</td>\n",
       "      <td>...</td>\n",
       "      <td>0.087717</td>\n",
       "      <td>6.634093</td>\n",
       "      <td>2.100421e+06</td>\n",
       "      <td>2.968060e+06</td>\n",
       "      <td>0.468246</td>\n",
       "      <td>0.109362</td>\n",
       "      <td>0.167446</td>\n",
       "      <td>0.202609</td>\n",
       "      <td>0.571102</td>\n",
       "      <td>0.533719</td>\n",
       "    </tr>\n",
       "    <tr>\n",
       "      <th>std</th>\n",
       "      <td>4472.588196</td>\n",
       "      <td>1.012655</td>\n",
       "      <td>2.408569e+07</td>\n",
       "      <td>2.955334e+07</td>\n",
       "      <td>1.761286e+07</td>\n",
       "      <td>6.184139e+05</td>\n",
       "      <td>7.927677e+06</td>\n",
       "      <td>1.922430e+07</td>\n",
       "      <td>794.16940</td>\n",
       "      <td>9.241921</td>\n",
       "      <td>...</td>\n",
       "      <td>0.282892</td>\n",
       "      <td>4.675454</td>\n",
       "      <td>8.092612e+06</td>\n",
       "      <td>6.262192e+06</td>\n",
       "      <td>0.473056</td>\n",
       "      <td>0.200159</td>\n",
       "      <td>0.192327</td>\n",
       "      <td>0.274293</td>\n",
       "      <td>0.411928</td>\n",
       "      <td>0.432350</td>\n",
       "    </tr>\n",
       "    <tr>\n",
       "      <th>min</th>\n",
       "      <td>1.000000</td>\n",
       "      <td>1.000000</td>\n",
       "      <td>0.000000e+00</td>\n",
       "      <td>3.000000e+06</td>\n",
       "      <td>2.004300e+04</td>\n",
       "      <td>0.000000e+00</td>\n",
       "      <td>-1.566720e+07</td>\n",
       "      <td>0.000000e+00</td>\n",
       "      <td>-18138.00000</td>\n",
       "      <td>0.000000</td>\n",
       "      <td>...</td>\n",
       "      <td>0.000000</td>\n",
       "      <td>0.750000</td>\n",
       "      <td>-1.566720e+07</td>\n",
       "      <td>0.000000e+00</td>\n",
       "      <td>0.000000</td>\n",
       "      <td>-0.632000</td>\n",
       "      <td>-0.126000</td>\n",
       "      <td>-0.569000</td>\n",
       "      <td>0.000288</td>\n",
       "      <td>0.000000</td>\n",
       "    </tr>\n",
       "    <tr>\n",
       "      <th>25%</th>\n",
       "      <td>3874.000000</td>\n",
       "      <td>2.000000</td>\n",
       "      <td>2.000551e+06</td>\n",
       "      <td>5.000000e+06</td>\n",
       "      <td>8.182500e+05</td>\n",
       "      <td>0.000000e+00</td>\n",
       "      <td>0.000000e+00</td>\n",
       "      <td>0.000000e+00</td>\n",
       "      <td>0.00000</td>\n",
       "      <td>0.000000</td>\n",
       "      <td>...</td>\n",
       "      <td>0.000000</td>\n",
       "      <td>2.920000</td>\n",
       "      <td>0.000000e+00</td>\n",
       "      <td>0.000000e+00</td>\n",
       "      <td>0.000000</td>\n",
       "      <td>0.000000</td>\n",
       "      <td>0.035200</td>\n",
       "      <td>0.032900</td>\n",
       "      <td>0.189000</td>\n",
       "      <td>0.155000</td>\n",
       "    </tr>\n",
       "    <tr>\n",
       "      <th>50%</th>\n",
       "      <td>7747.000000</td>\n",
       "      <td>2.000000</td>\n",
       "      <td>4.726943e+06</td>\n",
       "      <td>9.000000e+06</td>\n",
       "      <td>3.145857e+06</td>\n",
       "      <td>0.000000e+00</td>\n",
       "      <td>2.010420e+05</td>\n",
       "      <td>2.750923e+06</td>\n",
       "      <td>27.00000</td>\n",
       "      <td>0.000000</td>\n",
       "      <td>...</td>\n",
       "      <td>0.000000</td>\n",
       "      <td>5.666667</td>\n",
       "      <td>2.480000e+05</td>\n",
       "      <td>1.209318e+06</td>\n",
       "      <td>0.335000</td>\n",
       "      <td>0.022100</td>\n",
       "      <td>0.108000</td>\n",
       "      <td>0.117000</td>\n",
       "      <td>0.575000</td>\n",
       "      <td>0.496000</td>\n",
       "    </tr>\n",
       "    <tr>\n",
       "      <th>75%</th>\n",
       "      <td>11620.000000</td>\n",
       "      <td>3.000000</td>\n",
       "      <td>1.064848e+07</td>\n",
       "      <td>2.200000e+07</td>\n",
       "      <td>7.404991e+06</td>\n",
       "      <td>0.000000e+00</td>\n",
       "      <td>1.398000e+06</td>\n",
       "      <td>7.143198e+06</td>\n",
       "      <td>100.00000</td>\n",
       "      <td>1.060000</td>\n",
       "      <td>...</td>\n",
       "      <td>0.000000</td>\n",
       "      <td>9.330000</td>\n",
       "      <td>1.512235e+06</td>\n",
       "      <td>3.088477e+06</td>\n",
       "      <td>0.930000</td>\n",
       "      <td>0.128000</td>\n",
       "      <td>0.239000</td>\n",
       "      <td>0.285000</td>\n",
       "      <td>0.917000</td>\n",
       "      <td>0.863000</td>\n",
       "    </tr>\n",
       "    <tr>\n",
       "      <th>max</th>\n",
       "      <td>15493.000000</td>\n",
       "      <td>16.000000</td>\n",
       "      <td>7.980586e+08</td>\n",
       "      <td>1.000000e+09</td>\n",
       "      <td>6.280000e+08</td>\n",
       "      <td>2.884057e+07</td>\n",
       "      <td>2.850000e+08</td>\n",
       "      <td>4.440000e+08</td>\n",
       "      <td>68983.00000</td>\n",
       "      <td>190.000000</td>\n",
       "      <td>...</td>\n",
       "      <td>1.000000</td>\n",
       "      <td>34.416667</td>\n",
       "      <td>3.140000e+08</td>\n",
       "      <td>1.480000e+08</td>\n",
       "      <td>7.240000</td>\n",
       "      <td>4.600000</td>\n",
       "      <td>3.490000</td>\n",
       "      <td>8.110000</td>\n",
       "      <td>8.125671</td>\n",
       "      <td>9.730000</td>\n",
       "    </tr>\n",
       "  </tbody>\n",
       "</table>\n",
       "<p>8 rows × 23 columns</p>\n",
       "</div>"
      ],
      "text/plain": [
       "                 id  jumlah_kartu   outstanding  limit_kredit       tagihan  \\\n",
       "count  15493.000000  15493.000000  1.549300e+04  1.549300e+04  1.549300e+04   \n",
       "mean    7747.000000      2.506551  1.159833e+07  2.079833e+07  8.078663e+06   \n",
       "std     4472.588196      1.012655  2.408569e+07  2.955334e+07  1.761286e+07   \n",
       "min        1.000000      1.000000  0.000000e+00  3.000000e+06  2.004300e+04   \n",
       "25%     3874.000000      2.000000  2.000551e+06  5.000000e+06  8.182500e+05   \n",
       "50%     7747.000000      2.000000  4.726943e+06  9.000000e+06  3.145857e+06   \n",
       "75%    11620.000000      3.000000  1.064848e+07  2.200000e+07  7.404991e+06   \n",
       "max    15493.000000     16.000000  7.980586e+08  1.000000e+09  6.280000e+08   \n",
       "\n",
       "       total_pemakaian_tunai  total_pemakaian_retail  \\\n",
       "count           1.549300e+04            1.549300e+04   \n",
       "mean            7.453291e+04            2.025857e+06   \n",
       "std             6.184139e+05            7.927677e+06   \n",
       "min             0.000000e+00           -1.566720e+07   \n",
       "25%             0.000000e+00            0.000000e+00   \n",
       "50%             0.000000e+00            2.010420e+05   \n",
       "75%             0.000000e+00            1.398000e+06   \n",
       "max             2.884057e+07            2.850000e+08   \n",
       "\n",
       "       sisa_tagihan_tidak_terbayar  rasio_pembayaran  persentasi_overlimit  \\\n",
       "count                 1.549300e+04       15493.00000          15493.000000   \n",
       "mean                  8.140875e+06          64.64712              3.343533   \n",
       "std                   1.922430e+07         794.16940              9.241921   \n",
       "min                   0.000000e+00      -18138.00000              0.000000   \n",
       "25%                   0.000000e+00           0.00000              0.000000   \n",
       "50%                   2.750923e+06          27.00000              0.000000   \n",
       "75%                   7.143198e+06         100.00000              1.060000   \n",
       "max                   4.440000e+08       68983.00000            190.000000   \n",
       "\n",
       "             ...         flag_kredit_macet  \\\n",
       "count        ...              15493.000000   \n",
       "mean         ...                  0.087717   \n",
       "std          ...                  0.282892   \n",
       "min          ...                  0.000000   \n",
       "25%          ...                  0.000000   \n",
       "50%          ...                  0.000000   \n",
       "75%          ...                  0.000000   \n",
       "max          ...                  1.000000   \n",
       "\n",
       "       jumlah_tahun_sejak_pembukaan_kredit  total_pemakaian  \\\n",
       "count                         15493.000000     1.549300e+04   \n",
       "mean                              6.634093     2.100421e+06   \n",
       "std                               4.675454     8.092612e+06   \n",
       "min                               0.750000    -1.566720e+07   \n",
       "25%                               2.920000     0.000000e+00   \n",
       "50%                               5.666667     2.480000e+05   \n",
       "75%                               9.330000     1.512235e+06   \n",
       "max                              34.416667     3.140000e+08   \n",
       "\n",
       "       sisa_tagihan_per_jumlah_kartu  sisa_tagihan_per_limit  \\\n",
       "count                   1.549300e+04            15493.000000   \n",
       "mean                    2.968060e+06                0.468246   \n",
       "std                     6.262192e+06                0.473056   \n",
       "min                     0.000000e+00                0.000000   \n",
       "25%                     0.000000e+00                0.000000   \n",
       "50%                     1.209318e+06                0.335000   \n",
       "75%                     3.088477e+06                0.930000   \n",
       "max                     1.480000e+08                7.240000   \n",
       "\n",
       "       total_pemakaian_per_limit  pemakaian_3bln_per_limit  \\\n",
       "count               15493.000000              15493.000000   \n",
       "mean                    0.109362                  0.167446   \n",
       "std                     0.200159                  0.192327   \n",
       "min                    -0.632000                 -0.126000   \n",
       "25%                     0.000000                  0.035200   \n",
       "50%                     0.022100                  0.108000   \n",
       "75%                     0.128000                  0.239000   \n",
       "max                     4.600000                  3.490000   \n",
       "\n",
       "       pemakaian_6bln_per_limit  utilisasi_3bulan  utilisasi_6bulan  \n",
       "count              15493.000000      15493.000000      15493.000000  \n",
       "mean                   0.202609          0.571102          0.533719  \n",
       "std                    0.274293          0.411928          0.432350  \n",
       "min                   -0.569000          0.000288          0.000000  \n",
       "25%                    0.032900          0.189000          0.155000  \n",
       "50%                    0.117000          0.575000          0.496000  \n",
       "75%                    0.285000          0.917000          0.863000  \n",
       "max                    8.110000          8.125671          9.730000  \n",
       "\n",
       "[8 rows x 23 columns]"
      ]
     },
     "execution_count": 4,
     "metadata": {},
     "output_type": "execute_result"
    }
   ],
   "source": [
    "df_train.describe()"
   ]
  },
  {
   "cell_type": "code",
   "execution_count": 5,
   "metadata": {},
   "outputs": [
    {
     "data": {
      "text/plain": [
       "0    14134\n",
       "1     1359\n",
       "Name: flag_kredit_macet, dtype: int64"
      ]
     },
     "execution_count": 5,
     "metadata": {},
     "output_type": "execute_result"
    }
   ],
   "source": [
    "df_train['flag_kredit_macet'].value_counts()"
   ]
  },
  {
   "cell_type": "code",
   "execution_count": 6,
   "metadata": {},
   "outputs": [
    {
     "data": {
      "text/html": [
       "<div>\n",
       "<style scoped>\n",
       "    .dataframe tbody tr th:only-of-type {\n",
       "        vertical-align: middle;\n",
       "    }\n",
       "\n",
       "    .dataframe tbody tr th {\n",
       "        vertical-align: top;\n",
       "    }\n",
       "\n",
       "    .dataframe thead th {\n",
       "        text-align: right;\n",
       "    }\n",
       "</style>\n",
       "<table border=\"1\" class=\"dataframe\">\n",
       "  <thead>\n",
       "    <tr style=\"text-align: right;\">\n",
       "      <th></th>\n",
       "      <th>dataFeatures</th>\n",
       "      <th>dataType</th>\n",
       "      <th>null</th>\n",
       "      <th>nullPct</th>\n",
       "      <th>unique</th>\n",
       "      <th>uniqueSample</th>\n",
       "    </tr>\n",
       "  </thead>\n",
       "  <tbody>\n",
       "    <tr>\n",
       "      <th>0</th>\n",
       "      <td>id</td>\n",
       "      <td>int64</td>\n",
       "      <td>0</td>\n",
       "      <td>0.00</td>\n",
       "      <td>15493</td>\n",
       "      <td>[1, 2]</td>\n",
       "    </tr>\n",
       "    <tr>\n",
       "      <th>1</th>\n",
       "      <td>jumlah_kartu</td>\n",
       "      <td>int64</td>\n",
       "      <td>0</td>\n",
       "      <td>0.00</td>\n",
       "      <td>15</td>\n",
       "      <td>[2, 3]</td>\n",
       "    </tr>\n",
       "    <tr>\n",
       "      <th>2</th>\n",
       "      <td>outstanding</td>\n",
       "      <td>int64</td>\n",
       "      <td>0</td>\n",
       "      <td>0.00</td>\n",
       "      <td>10359</td>\n",
       "      <td>[36158, 268691]</td>\n",
       "    </tr>\n",
       "    <tr>\n",
       "      <th>3</th>\n",
       "      <td>limit_kredit</td>\n",
       "      <td>float64</td>\n",
       "      <td>0</td>\n",
       "      <td>0.00</td>\n",
       "      <td>150</td>\n",
       "      <td>[7000000.0, 10000000.0]</td>\n",
       "    </tr>\n",
       "    <tr>\n",
       "      <th>4</th>\n",
       "      <td>tagihan</td>\n",
       "      <td>float64</td>\n",
       "      <td>0</td>\n",
       "      <td>0.00</td>\n",
       "      <td>10018</td>\n",
       "      <td>[23437.0, 254564.0]</td>\n",
       "    </tr>\n",
       "    <tr>\n",
       "      <th>5</th>\n",
       "      <td>total_pemakaian_tunai</td>\n",
       "      <td>float64</td>\n",
       "      <td>0</td>\n",
       "      <td>0.00</td>\n",
       "      <td>94</td>\n",
       "      <td>[0.0, 1300000.0]</td>\n",
       "    </tr>\n",
       "    <tr>\n",
       "      <th>6</th>\n",
       "      <td>total_pemakaian_retail</td>\n",
       "      <td>float64</td>\n",
       "      <td>0</td>\n",
       "      <td>0.00</td>\n",
       "      <td>5714</td>\n",
       "      <td>[94.0, 1012.0]</td>\n",
       "    </tr>\n",
       "    <tr>\n",
       "      <th>7</th>\n",
       "      <td>sisa_tagihan_tidak_terbayar</td>\n",
       "      <td>float64</td>\n",
       "      <td>0</td>\n",
       "      <td>0.00</td>\n",
       "      <td>6947</td>\n",
       "      <td>[26323.0, 0.0]</td>\n",
       "    </tr>\n",
       "    <tr>\n",
       "      <th>8</th>\n",
       "      <td>kode_cabang</td>\n",
       "      <td>object</td>\n",
       "      <td>100</td>\n",
       "      <td>0.65</td>\n",
       "      <td>11</td>\n",
       "      <td>[I, A]</td>\n",
       "    </tr>\n",
       "    <tr>\n",
       "      <th>9</th>\n",
       "      <td>rasio_pembayaran</td>\n",
       "      <td>float64</td>\n",
       "      <td>0</td>\n",
       "      <td>0.00</td>\n",
       "      <td>1665</td>\n",
       "      <td>[102.19, 0.0]</td>\n",
       "    </tr>\n",
       "    <tr>\n",
       "      <th>10</th>\n",
       "      <td>persentasi_overlimit</td>\n",
       "      <td>float64</td>\n",
       "      <td>0</td>\n",
       "      <td>0.00</td>\n",
       "      <td>1222</td>\n",
       "      <td>[0.0, 10.02]</td>\n",
       "    </tr>\n",
       "    <tr>\n",
       "      <th>11</th>\n",
       "      <td>rasio_pembayaran_3bulan</td>\n",
       "      <td>float64</td>\n",
       "      <td>0</td>\n",
       "      <td>0.00</td>\n",
       "      <td>2574</td>\n",
       "      <td>[74.78, 0.0]</td>\n",
       "    </tr>\n",
       "    <tr>\n",
       "      <th>12</th>\n",
       "      <td>rasio_pembayaran_6bulan</td>\n",
       "      <td>float64</td>\n",
       "      <td>0</td>\n",
       "      <td>0.00</td>\n",
       "      <td>2416</td>\n",
       "      <td>[100.0, 0.0]</td>\n",
       "    </tr>\n",
       "    <tr>\n",
       "      <th>13</th>\n",
       "      <td>skor_delikuensi</td>\n",
       "      <td>int64</td>\n",
       "      <td>0</td>\n",
       "      <td>0.00</td>\n",
       "      <td>6</td>\n",
       "      <td>[0, 2]</td>\n",
       "    </tr>\n",
       "    <tr>\n",
       "      <th>14</th>\n",
       "      <td>flag_kredit_macet</td>\n",
       "      <td>int64</td>\n",
       "      <td>0</td>\n",
       "      <td>0.00</td>\n",
       "      <td>2</td>\n",
       "      <td>[0, 1]</td>\n",
       "    </tr>\n",
       "    <tr>\n",
       "      <th>15</th>\n",
       "      <td>jumlah_tahun_sejak_pembukaan_kredit</td>\n",
       "      <td>float64</td>\n",
       "      <td>0</td>\n",
       "      <td>0.00</td>\n",
       "      <td>448</td>\n",
       "      <td>[15.41666667, 0.75]</td>\n",
       "    </tr>\n",
       "    <tr>\n",
       "      <th>16</th>\n",
       "      <td>total_pemakaian</td>\n",
       "      <td>float64</td>\n",
       "      <td>0</td>\n",
       "      <td>0.00</td>\n",
       "      <td>5990</td>\n",
       "      <td>[94.0, 1012.0]</td>\n",
       "    </tr>\n",
       "    <tr>\n",
       "      <th>17</th>\n",
       "      <td>sisa_tagihan_per_jumlah_kartu</td>\n",
       "      <td>float64</td>\n",
       "      <td>0</td>\n",
       "      <td>0.00</td>\n",
       "      <td>8524</td>\n",
       "      <td>[13161.5, 0.0]</td>\n",
       "    </tr>\n",
       "    <tr>\n",
       "      <th>18</th>\n",
       "      <td>sisa_tagihan_per_limit</td>\n",
       "      <td>float64</td>\n",
       "      <td>0</td>\n",
       "      <td>0.00</td>\n",
       "      <td>3235</td>\n",
       "      <td>[0.003760429, 0.0]</td>\n",
       "    </tr>\n",
       "    <tr>\n",
       "      <th>19</th>\n",
       "      <td>total_pemakaian_per_limit</td>\n",
       "      <td>float64</td>\n",
       "      <td>0</td>\n",
       "      <td>0.00</td>\n",
       "      <td>3634</td>\n",
       "      <td>[1.34e-05, 0.00010120000000000001]</td>\n",
       "    </tr>\n",
       "    <tr>\n",
       "      <th>20</th>\n",
       "      <td>pemakaian_3bln_per_limit</td>\n",
       "      <td>float64</td>\n",
       "      <td>0</td>\n",
       "      <td>0.00</td>\n",
       "      <td>4015</td>\n",
       "      <td>[0.01171875, 0.0]</td>\n",
       "    </tr>\n",
       "    <tr>\n",
       "      <th>21</th>\n",
       "      <td>pemakaian_6bln_per_limit</td>\n",
       "      <td>float64</td>\n",
       "      <td>0</td>\n",
       "      <td>0.00</td>\n",
       "      <td>4049</td>\n",
       "      <td>[0.017809524, 0.0]</td>\n",
       "    </tr>\n",
       "    <tr>\n",
       "      <th>22</th>\n",
       "      <td>utilisasi_3bulan</td>\n",
       "      <td>float64</td>\n",
       "      <td>0</td>\n",
       "      <td>0.00</td>\n",
       "      <td>4094</td>\n",
       "      <td>[0.013228036, 0.004231625]</td>\n",
       "    </tr>\n",
       "    <tr>\n",
       "      <th>23</th>\n",
       "      <td>utilisasi_6bulan</td>\n",
       "      <td>float64</td>\n",
       "      <td>0</td>\n",
       "      <td>0.00</td>\n",
       "      <td>4151</td>\n",
       "      <td>[0.021949332999999998, 0.0003]</td>\n",
       "    </tr>\n",
       "  </tbody>\n",
       "</table>\n",
       "</div>"
      ],
      "text/plain": [
       "                           dataFeatures dataType  null  nullPct  unique  \\\n",
       "0                                    id    int64     0     0.00   15493   \n",
       "1                          jumlah_kartu    int64     0     0.00      15   \n",
       "2                           outstanding    int64     0     0.00   10359   \n",
       "3                          limit_kredit  float64     0     0.00     150   \n",
       "4                               tagihan  float64     0     0.00   10018   \n",
       "5                 total_pemakaian_tunai  float64     0     0.00      94   \n",
       "6                total_pemakaian_retail  float64     0     0.00    5714   \n",
       "7           sisa_tagihan_tidak_terbayar  float64     0     0.00    6947   \n",
       "8                           kode_cabang   object   100     0.65      11   \n",
       "9                      rasio_pembayaran  float64     0     0.00    1665   \n",
       "10                 persentasi_overlimit  float64     0     0.00    1222   \n",
       "11              rasio_pembayaran_3bulan  float64     0     0.00    2574   \n",
       "12              rasio_pembayaran_6bulan  float64     0     0.00    2416   \n",
       "13                      skor_delikuensi    int64     0     0.00       6   \n",
       "14                    flag_kredit_macet    int64     0     0.00       2   \n",
       "15  jumlah_tahun_sejak_pembukaan_kredit  float64     0     0.00     448   \n",
       "16                      total_pemakaian  float64     0     0.00    5990   \n",
       "17        sisa_tagihan_per_jumlah_kartu  float64     0     0.00    8524   \n",
       "18               sisa_tagihan_per_limit  float64     0     0.00    3235   \n",
       "19            total_pemakaian_per_limit  float64     0     0.00    3634   \n",
       "20             pemakaian_3bln_per_limit  float64     0     0.00    4015   \n",
       "21             pemakaian_6bln_per_limit  float64     0     0.00    4049   \n",
       "22                     utilisasi_3bulan  float64     0     0.00    4094   \n",
       "23                     utilisasi_6bulan  float64     0     0.00    4151   \n",
       "\n",
       "                          uniqueSample  \n",
       "0                               [1, 2]  \n",
       "1                               [2, 3]  \n",
       "2                      [36158, 268691]  \n",
       "3              [7000000.0, 10000000.0]  \n",
       "4                  [23437.0, 254564.0]  \n",
       "5                     [0.0, 1300000.0]  \n",
       "6                       [94.0, 1012.0]  \n",
       "7                       [26323.0, 0.0]  \n",
       "8                               [I, A]  \n",
       "9                        [102.19, 0.0]  \n",
       "10                        [0.0, 10.02]  \n",
       "11                        [74.78, 0.0]  \n",
       "12                        [100.0, 0.0]  \n",
       "13                              [0, 2]  \n",
       "14                              [0, 1]  \n",
       "15                 [15.41666667, 0.75]  \n",
       "16                      [94.0, 1012.0]  \n",
       "17                      [13161.5, 0.0]  \n",
       "18                  [0.003760429, 0.0]  \n",
       "19  [1.34e-05, 0.00010120000000000001]  \n",
       "20                   [0.01171875, 0.0]  \n",
       "21                  [0.017809524, 0.0]  \n",
       "22          [0.013228036, 0.004231625]  \n",
       "23      [0.021949332999999998, 0.0003]  "
      ]
     },
     "execution_count": 6,
     "metadata": {},
     "output_type": "execute_result"
    }
   ],
   "source": [
    "dfDescribe=pd.DataFrame(columns='dataFeatures dataType null nullPct unique uniqueSample'.split(),\n",
    "                        data=[[col, df_train.dtypes[col], sum(df_train[col].isna()),round(100*sum(df_train[col].isna())/len(df_train[col]),2),df_train[col].nunique(),list(df_train[col].unique()[:2])]for col in df_train.columns])\n",
    "                                                                  \n",
    "dfDescribe"
   ]
  },
  {
   "cell_type": "markdown",
   "metadata": {},
   "source": [
    "# Remove Outlier"
   ]
  },
  {
   "cell_type": "code",
   "execution_count": 7,
   "metadata": {},
   "outputs": [],
   "source": [
    "def detect_outliers(df_train,n,features):\n",
    "    outlier_id = []\n",
    "    features_upper = []\n",
    "    features_bottom = []\n",
    "    \n",
    "    for col in features:\n",
    "        Q1 = np.percentile(df_train[col],25) #1st Quartile 25%\n",
    "        Q3 = np.percentile(df_train[col],75) #3rd Quartile 75%\n",
    "        IQR = Q3 -Q1 # Interquatile range (IQR)\n",
    "        \n",
    "        outlier_step = 1.5 * IQR\n",
    "        features_upper.append(Q3 + outlier_step)\n",
    "        features_bottom.append(Q1 - outlier_step)\n",
    "        \n",
    "        outlier_list_col = df_train[(df_train[col] < Q1 - outlier_step) | (df_train[col] > Q3 + outlier_step)].id\n",
    "        \n",
    "        outlier_id.extend(outlier_list_col)\n",
    "        \n",
    "    outlier_id_counter = Counter(outlier_id)\n",
    "    multiple_outliers = list(k for k, v in outlier_id_counter.items() if v > n)\n",
    "    \n",
    "    return multiple_outliers\n",
    "    "
   ]
  },
  {
   "cell_type": "code",
   "execution_count": 8,
   "metadata": {},
   "outputs": [],
   "source": [
    "features_basic_numerical = list(df_train.drop(['id', 'flag_kredit_macet', 'skor_delikuensi'],axis=1).select_dtypes(exclude=['object']))\n",
    "outliers_to_drop = detect_outliers(df_train,3,features_basic_numerical)"
   ]
  },
  {
   "cell_type": "code",
   "execution_count": 9,
   "metadata": {},
   "outputs": [],
   "source": [
    "id_to_drop = df_train[(df_train.id.isin(outliers_to_drop)) & (df_train.flag_kredit_macet == 0)].id.tolist()"
   ]
  },
  {
   "cell_type": "code",
   "execution_count": 10,
   "metadata": {},
   "outputs": [],
   "source": [
    "df_train = df_train[~df_train.id.isin(id_to_drop)]\n"
   ]
  },
  {
   "cell_type": "code",
   "execution_count": 11,
   "metadata": {},
   "outputs": [
    {
     "data": {
      "text/plain": [
       "0    12100\n",
       "1     1359\n",
       "Name: flag_kredit_macet, dtype: int64"
      ]
     },
     "execution_count": 11,
     "metadata": {},
     "output_type": "execute_result"
    }
   ],
   "source": [
    "df_train['flag_kredit_macet'].value_counts()"
   ]
  },
  {
   "cell_type": "code",
   "execution_count": 12,
   "metadata": {},
   "outputs": [
    {
     "name": "stderr",
     "output_type": "stream",
     "text": [
      "E:\\Anaconda\\lib\\site-packages\\scipy\\stats\\stats.py:1713: FutureWarning: Using a non-tuple sequence for multidimensional indexing is deprecated; use `arr[tuple(seq)]` instead of `arr[seq]`. In the future this will be interpreted as an array index, `arr[np.array(seq)]`, which will result either in an error or a different result.\n",
      "  return np.add.reduce(sorted[indexer] * weights, axis=axis) / sumval\n"
     ]
    },
    {
     "data": {
      "text/plain": [
       "Text(0,0.5,'Frekuensi')"
      ]
     },
     "execution_count": 12,
     "metadata": {},
     "output_type": "execute_result"
    },
    {
     "data": {
      "image/png": "[encoded data removed]",
      "text/plain": [
       "<Figure size 432x288 with 1 Axes>"
      ]
     },
     "metadata": {
      "needs_background": "light"
     },
     "output_type": "display_data"
    }
   ],
   "source": [
    "g = sns.distplot(df_train[df_train['flag_kredit_macet'] == 1]['total_pemakaian_tunai'], hist=False, color='Red')\n",
    "g = sns.distplot(df_train[df_train['flag_kredit_macet'] == 0]['total_pemakaian_tunai'], hist=False, color='Green')\n",
    "\n",
    "g.set_xlabel('Total Pemakaian Tunai')\n",
    "g.set_ylabel('Frekuensi')"
   ]
  },
  {
   "cell_type": "code",
   "execution_count": 13,
   "metadata": {},
   "outputs": [
    {
     "name": "stderr",
     "output_type": "stream",
     "text": [
      "E:\\Anaconda\\lib\\site-packages\\seaborn\\categorical.py:3666: UserWarning: The `factorplot` function has been renamed to `catplot`. The original name will be removed in a future release. Please update your code. Note that the default `kind` in `factorplot` (`'point'`) has changed `'strip'` in `catplot`.\n",
      "  warnings.warn(msg)\n",
      "E:\\Anaconda\\lib\\site-packages\\seaborn\\categorical.py:3672: UserWarning: The `size` paramter has been renamed to `height`; please update your code.\n",
      "  warnings.warn(msg, UserWarning)\n",
      "E:\\Anaconda\\lib\\site-packages\\scipy\\stats\\stats.py:1713: FutureWarning: Using a non-tuple sequence for multidimensional indexing is deprecated; use `arr[tuple(seq)]` instead of `arr[seq]`. In the future this will be interpreted as an array index, `arr[np.array(seq)]`, which will result either in an error or a different result.\n",
      "  return np.add.reduce(sorted[indexer] * weights, axis=axis) / sumval\n"
     ]
    },
    {
     "data": {
      "image/png": "[encoded data removed]",
      "text/plain": [
       "<Figure size 432x432 with 1 Axes>"
      ]
     },
     "metadata": {
      "needs_background": "light"
     },
     "output_type": "display_data"
    }
   ],
   "source": [
    "g = sns.factorplot(x='kode_cabang', y='flag_kredit_macet', data=df_train, kind='bar',size = 6, \n",
    "                   palette = 'rainbow', estimator= np.mean, \n",
    "                   order = df_train.groupby('kode_cabang').mean()['flag_kredit_macet'].sort_values(ascending=False).index)\n",
    "g.despine(left=True)\n",
    "g = g.set_ylabels('default probability')"
   ]
  },
  {
   "cell_type": "code",
   "execution_count": 14,
   "metadata": {},
   "outputs": [],
   "source": [
    "df_train = df_train.fillna(df_train.groupby('kode_cabang').mean()['flag_kredit_macet'].sort_values(ascending=False).index[0])"
   ]
  },
  {
   "cell_type": "code",
   "execution_count": 15,
   "metadata": {},
   "outputs": [
    {
     "name": "stdout",
     "output_type": "stream",
     "text": [
      "<class 'pandas.core.frame.DataFrame'>\n",
      "Int64Index: 13459 entries, 0 to 15492\n",
      "Data columns (total 24 columns):\n",
      "id                                     13459 non-null int64\n",
      "jumlah_kartu                           13459 non-null int64\n",
      "outstanding                            13459 non-null int64\n",
      "limit_kredit                           13459 non-null float64\n",
      "tagihan                                13459 non-null float64\n",
      "total_pemakaian_tunai                  13459 non-null float64\n",
      "total_pemakaian_retail                 13459 non-null float64\n",
      "sisa_tagihan_tidak_terbayar            13459 non-null float64\n",
      "kode_cabang                            13459 non-null object\n",
      "rasio_pembayaran                       13459 non-null float64\n",
      "persentasi_overlimit                   13459 non-null float64\n",
      "rasio_pembayaran_3bulan                13459 non-null float64\n",
      "rasio_pembayaran_6bulan                13459 non-null float64\n",
      "skor_delikuensi                        13459 non-null int64\n",
      "flag_kredit_macet                      13459 non-null int64\n",
      "jumlah_tahun_sejak_pembukaan_kredit    13459 non-null float64\n",
      "total_pemakaian                        13459 non-null float64\n",
      "sisa_tagihan_per_jumlah_kartu          13459 non-null float64\n",
      "sisa_tagihan_per_limit                 13459 non-null float64\n",
      "total_pemakaian_per_limit              13459 non-null float64\n",
      "pemakaian_3bln_per_limit               13459 non-null float64\n",
      "pemakaian_6bln_per_limit               13459 non-null float64\n",
      "utilisasi_3bulan                       13459 non-null float64\n",
      "utilisasi_6bulan                       13459 non-null float64\n",
      "dtypes: float64(18), int64(5), object(1)\n",
      "memory usage: 3.2+ MB\n"
     ]
    }
   ],
   "source": [
    "df_train.info()"
   ]
  },
  {
   "cell_type": "code",
   "execution_count": 16,
   "metadata": {},
   "outputs": [
    {
     "data": {
      "text/plain": [
       "A    7359\n",
       "F    1502\n",
       "B    1214\n",
       "I     969\n",
       "E     531\n",
       "G     524\n",
       "J     384\n",
       "H     335\n",
       "C     304\n",
       "D     182\n",
       "K     155\n",
       "Name: kode_cabang, dtype: int64"
      ]
     },
     "execution_count": 16,
     "metadata": {},
     "output_type": "execute_result"
    }
   ],
   "source": [
    "df_train['kode_cabang'].value_counts()"
   ]
  },
  {
   "cell_type": "code",
   "execution_count": 17,
   "metadata": {},
   "outputs": [
    {
     "data": {
      "text/plain": [
       "13459"
      ]
     },
     "execution_count": 17,
     "metadata": {},
     "output_type": "execute_result"
    }
   ],
   "source": [
    "len(df_train['kode_cabang'])"
   ]
  },
  {
   "cell_type": "markdown",
   "metadata": {},
   "source": [
    "# EDA"
   ]
  },
  {
   "cell_type": "code",
   "execution_count": 18,
   "metadata": {},
   "outputs": [
    {
     "data": {
      "text/plain": [
       "Text(0.5,0,'Tagihan')"
      ]
     },
     "execution_count": 18,
     "metadata": {},
     "output_type": "execute_result"
    },
    {
     "data": {
      "image/png": "[encoded data removed]",
      "text/plain": [
       "<Figure size 720x432 with 1 Axes>"
      ]
     },
     "metadata": {
      "needs_background": "light"
     },
     "output_type": "display_data"
    }
   ],
   "source": [
    "plt.figure(figsize=(10,6))\n",
    "df_train[(df_train['flag_kredit_macet'] == 1 )\n",
    "         & (df_train['tagihan'] <= df_train['tagihan'].mean() + (3 * df_train['tagihan'].std()))\n",
    "         & (df_train['tagihan'] >= df_train['tagihan'].mean() - (3 * df_train['tagihan'].std()))]['tagihan'].hist(alpha=0.5,color = 'red',bins=30,label='Macet = 1')\n",
    "\n",
    "df_train[(df_train['flag_kredit_macet'] == 0 )\n",
    "         & (df_train['tagihan'] <= df_train['tagihan'].mean() + (3 * df_train['tagihan'].std()))\n",
    "         & (df_train['tagihan'] >= df_train['tagihan'].mean() - (3 * df_train['tagihan'].std()))]['tagihan'].hist(alpha=0.5,color = 'blue',bins=30,label='Tidak Macet = 0')\n",
    "plt.legend()\n",
    "plt.xlabel('Tagihan')"
   ]
  },
  {
   "cell_type": "code",
   "execution_count": 19,
   "metadata": {},
   "outputs": [
    {
     "data": {
      "text/plain": [
       "1    134\n",
       "0     11\n",
       "Name: flag_kredit_macet, dtype: int64"
      ]
     },
     "execution_count": 19,
     "metadata": {},
     "output_type": "execute_result"
    }
   ],
   "source": [
    "df_train[(df_train['tagihan'] > df_train['tagihan'].mean() + (3 * df_train['tagihan'].std()))]['flag_kredit_macet'].value_counts()"
   ]
  },
  {
   "cell_type": "code",
   "execution_count": 20,
   "metadata": {},
   "outputs": [
    {
     "data": {
      "text/plain": [
       "Text(0.5,0,'outstanding')"
      ]
     },
     "execution_count": 20,
     "metadata": {},
     "output_type": "execute_result"
    },
    {
     "data": {
      "image/png": "[encoded data removed]",
      "text/plain": [
       "<Figure size 720x432 with 1 Axes>"
      ]
     },
     "metadata": {
      "needs_background": "light"
     },
     "output_type": "display_data"
    }
   ],
   "source": [
    "plt.figure(figsize=(10,6))\n",
    "df_train[(df_train['flag_kredit_macet'] == 1 )\n",
    "         & (df_train['outstanding'] <= df_train['outstanding'].mean() + (3 * df_train['outstanding'].std()))\n",
    "         & (df_train['outstanding'] >= df_train['outstanding'].mean() - (3 * df_train['outstanding'].std()))]['outstanding'].hist(alpha=0.5,color = 'red',bins=30,label='Macet = 1')\n",
    "\n",
    "df_train[(df_train['flag_kredit_macet'] == 0 )\n",
    "         & (df_train['outstanding'] <= df_train['outstanding'].mean() + (3 * df_train['outstanding'].std()))\n",
    "         & (df_train['outstanding'] >= df_train['outstanding'].mean() - (3 * df_train['outstanding'].std()))]['outstanding'].hist(alpha=0.5,color = 'blue',bins=30,label='Tidak Macet = 0')\n",
    "plt.legend()\n",
    "plt.xlabel('outstanding')"
   ]
  },
  {
   "cell_type": "code",
   "execution_count": 21,
   "metadata": {},
   "outputs": [
    {
     "data": {
      "text/plain": [
       "1    134\n",
       "0     12\n",
       "Name: flag_kredit_macet, dtype: int64"
      ]
     },
     "execution_count": 21,
     "metadata": {},
     "output_type": "execute_result"
    }
   ],
   "source": [
    "df_train[(df_train['outstanding'] > df_train['outstanding'].mean() + (3 * df_train['outstanding'].std()))]['flag_kredit_macet'].value_counts()"
   ]
  },
  {
   "cell_type": "code",
   "execution_count": 22,
   "metadata": {},
   "outputs": [
    {
     "data": {
      "text/plain": [
       "Text(0.5,0,'total_pemakaian_tunai')"
      ]
     },
     "execution_count": 22,
     "metadata": {},
     "output_type": "execute_result"
    },
    {
     "data": {
      "image/png": "[encoded data removed]",
      "text/plain": [
       "<Figure size 720x432 with 1 Axes>"
      ]
     },
     "metadata": {
      "needs_background": "light"
     },
     "output_type": "display_data"
    }
   ],
   "source": [
    "plt.figure(figsize=(10,6))\n",
    "df_train[(df_train['flag_kredit_macet'] == 1 )\n",
    "         & (df_train['total_pemakaian_tunai'] <= df_train['total_pemakaian_tunai'].mean() + (3 * df_train['total_pemakaian_tunai'].std()))\n",
    "         & (df_train['total_pemakaian_tunai'] >= df_train['total_pemakaian_tunai'].mean() - (3 * df_train['total_pemakaian_tunai'].std()))]['total_pemakaian_tunai'].hist(alpha=0.5,color = 'red',bins=30,label='Macet = 1')\n",
    "\n",
    "df_train[(df_train['flag_kredit_macet'] == 0 )\n",
    "         & (df_train['total_pemakaian_tunai'] <= df_train['total_pemakaian_tunai'].mean() + (3 * df_train['total_pemakaian_tunai'].std()))\n",
    "         & (df_train['total_pemakaian_tunai'] >= df_train['total_pemakaian_tunai'].mean() - (3 * df_train['total_pemakaian_tunai'].std()))]['total_pemakaian_tunai'].hist(alpha=0.5,color = 'blue',bins=30,label='Tidak Macet = 0')\n",
    "plt.legend()\n",
    "plt.xlabel('total_pemakaian_tunai')"
   ]
  },
  {
   "cell_type": "code",
   "execution_count": 23,
   "metadata": {},
   "outputs": [
    {
     "data": {
      "text/plain": [
       "0    133\n",
       "1     35\n",
       "Name: flag_kredit_macet, dtype: int64"
      ]
     },
     "execution_count": 23,
     "metadata": {},
     "output_type": "execute_result"
    }
   ],
   "source": [
    "df_train[(df_train['total_pemakaian_tunai'] > df_train['total_pemakaian_tunai'].mean() + (3 * df_train['total_pemakaian_tunai'].std()))]['flag_kredit_macet'].value_counts()"
   ]
  },
  {
   "cell_type": "code",
   "execution_count": 24,
   "metadata": {},
   "outputs": [
    {
     "data": {
      "text/plain": [
       "Text(0.5,0,'total_pemakaian_tunai')"
      ]
     },
     "execution_count": 24,
     "metadata": {},
     "output_type": "execute_result"
    },
    {
     "data": {
      "image/png": "[encoded data removed]",
      "text/plain": [
       "<Figure size 720x432 with 1 Axes>"
      ]
     },
     "metadata": {
      "needs_background": "light"
     },
     "output_type": "display_data"
    }
   ],
   "source": [
    "plt.figure(figsize=(10,6))\n",
    "df_train[(df_train['flag_kredit_macet'] == 1 )\n",
    "         & (df_train['rasio_pembayaran'] <= df_train['rasio_pembayaran'].mean() + (3 * df_train['rasio_pembayaran'].std()))\n",
    "         & (df_train['rasio_pembayaran'] >= df_train['rasio_pembayaran'].mean() - (3 * df_train['rasio_pembayaran'].std()))]['rasio_pembayaran'].hist(alpha=0.5,color = 'red',bins=30,label='Macet = 1')\n",
    "\n",
    "df_train[(df_train['flag_kredit_macet'] == 0 )\n",
    "         & (df_train['rasio_pembayaran'] <= df_train['rasio_pembayaran'].mean() + (3 * df_train['rasio_pembayaran'].std()))\n",
    "         & (df_train['rasio_pembayaran'] >= df_train['rasio_pembayaran'].mean() - (3 * df_train['rasio_pembayaran'].std()))]['rasio_pembayaran'].hist(alpha=0.5,color = 'blue',bins=30,label='Tidak Macet = 0')\n",
    "plt.legend()\n",
    "plt.xlabel('total_pemakaian_tunai')"
   ]
  },
  {
   "cell_type": "code",
   "execution_count": 25,
   "metadata": {},
   "outputs": [
    {
     "data": {
      "text/plain": [
       "0    476\n",
       "1     64\n",
       "Name: flag_kredit_macet, dtype: int64"
      ]
     },
     "execution_count": 25,
     "metadata": {},
     "output_type": "execute_result"
    }
   ],
   "source": [
    "df_train[(df_train['total_pemakaian_tunai'] > df_train['rasio_pembayaran'].mean() + (3 * df_train['rasio_pembayaran'].std()))]['flag_kredit_macet'].value_counts()"
   ]
  },
  {
   "cell_type": "markdown",
   "metadata": {},
   "source": [
    "# Correcting Rasio Features"
   ]
  },
  {
   "cell_type": "code",
   "execution_count": 26,
   "metadata": {},
   "outputs": [],
   "source": [
    "df_train['rasio_pembayaran'] = df_train['rasio_pembayaran'].apply(lambda ras : 0 if ras < 0 else ras)\n",
    "df_train['rasio_pembayaran_3bulan'] = df_train['rasio_pembayaran_3bulan'].apply(lambda ras : 0 if ras < 0 else ras)\n",
    "df_train['rasio_pembayaran_6bulan'] = df_train['rasio_pembayaran_6bulan'].apply(lambda ras : 0 if ras < 0 else ras)"
   ]
  },
  {
   "cell_type": "code",
   "execution_count": 27,
   "metadata": {},
   "outputs": [
    {
     "data": {
      "text/html": [
       "<div>\n",
       "<style scoped>\n",
       "    .dataframe tbody tr th:only-of-type {\n",
       "        vertical-align: middle;\n",
       "    }\n",
       "\n",
       "    .dataframe tbody tr th {\n",
       "        vertical-align: top;\n",
       "    }\n",
       "\n",
       "    .dataframe thead th {\n",
       "        text-align: right;\n",
       "    }\n",
       "</style>\n",
       "<table border=\"1\" class=\"dataframe\">\n",
       "  <thead>\n",
       "    <tr style=\"text-align: right;\">\n",
       "      <th></th>\n",
       "      <th>id</th>\n",
       "      <th>jumlah_kartu</th>\n",
       "      <th>outstanding</th>\n",
       "      <th>limit_kredit</th>\n",
       "      <th>tagihan</th>\n",
       "      <th>total_pemakaian_tunai</th>\n",
       "      <th>total_pemakaian_retail</th>\n",
       "      <th>sisa_tagihan_tidak_terbayar</th>\n",
       "      <th>rasio_pembayaran</th>\n",
       "      <th>persentasi_overlimit</th>\n",
       "      <th>...</th>\n",
       "      <th>flag_kredit_macet</th>\n",
       "      <th>jumlah_tahun_sejak_pembukaan_kredit</th>\n",
       "      <th>total_pemakaian</th>\n",
       "      <th>sisa_tagihan_per_jumlah_kartu</th>\n",
       "      <th>sisa_tagihan_per_limit</th>\n",
       "      <th>total_pemakaian_per_limit</th>\n",
       "      <th>pemakaian_3bln_per_limit</th>\n",
       "      <th>pemakaian_6bln_per_limit</th>\n",
       "      <th>utilisasi_3bulan</th>\n",
       "      <th>utilisasi_6bulan</th>\n",
       "    </tr>\n",
       "  </thead>\n",
       "  <tbody>\n",
       "    <tr>\n",
       "      <th>count</th>\n",
       "      <td>13459.000000</td>\n",
       "      <td>13459.000000</td>\n",
       "      <td>1.345900e+04</td>\n",
       "      <td>1.345900e+04</td>\n",
       "      <td>1.345900e+04</td>\n",
       "      <td>1.345900e+04</td>\n",
       "      <td>1.345900e+04</td>\n",
       "      <td>1.345900e+04</td>\n",
       "      <td>13459.000000</td>\n",
       "      <td>13459.000000</td>\n",
       "      <td>...</td>\n",
       "      <td>13459.000000</td>\n",
       "      <td>13459.000000</td>\n",
       "      <td>1.345900e+04</td>\n",
       "      <td>1.345900e+04</td>\n",
       "      <td>13459.000000</td>\n",
       "      <td>13459.000000</td>\n",
       "      <td>13459.000000</td>\n",
       "      <td>13459.000000</td>\n",
       "      <td>13459.000000</td>\n",
       "      <td>13459.000000</td>\n",
       "    </tr>\n",
       "    <tr>\n",
       "      <th>mean</th>\n",
       "      <td>7720.642098</td>\n",
       "      <td>2.376402</td>\n",
       "      <td>6.859532e+06</td>\n",
       "      <td>1.600479e+07</td>\n",
       "      <td>4.875820e+06</td>\n",
       "      <td>4.459329e+04</td>\n",
       "      <td>8.984658e+05</td>\n",
       "      <td>4.822436e+06</td>\n",
       "      <td>60.379597</td>\n",
       "      <td>2.934699</td>\n",
       "      <td>...</td>\n",
       "      <td>0.100973</td>\n",
       "      <td>6.293546</td>\n",
       "      <td>9.430591e+05</td>\n",
       "      <td>1.931639e+06</td>\n",
       "      <td>0.442446</td>\n",
       "      <td>0.086310</td>\n",
       "      <td>0.148454</td>\n",
       "      <td>0.184162</td>\n",
       "      <td>0.539295</td>\n",
       "      <td>0.509423</td>\n",
       "    </tr>\n",
       "    <tr>\n",
       "      <th>std</th>\n",
       "      <td>4475.033870</td>\n",
       "      <td>0.795904</td>\n",
       "      <td>1.528072e+07</td>\n",
       "      <td>2.395373e+07</td>\n",
       "      <td>1.136996e+07</td>\n",
       "      <td>3.537127e+05</td>\n",
       "      <td>2.561418e+06</td>\n",
       "      <td>1.242972e+07</td>\n",
       "      <td>629.464282</td>\n",
       "      <td>8.385325</td>\n",
       "      <td>...</td>\n",
       "      <td>0.301305</td>\n",
       "      <td>4.429554</td>\n",
       "      <td>2.585494e+06</td>\n",
       "      <td>4.103413e+06</td>\n",
       "      <td>0.463139</td>\n",
       "      <td>0.157144</td>\n",
       "      <td>0.163793</td>\n",
       "      <td>0.248340</td>\n",
       "      <td>0.402185</td>\n",
       "      <td>0.417610</td>\n",
       "    </tr>\n",
       "    <tr>\n",
       "      <th>min</th>\n",
       "      <td>1.000000</td>\n",
       "      <td>1.000000</td>\n",
       "      <td>0.000000e+00</td>\n",
       "      <td>3.000000e+06</td>\n",
       "      <td>2.004300e+04</td>\n",
       "      <td>0.000000e+00</td>\n",
       "      <td>-1.200000e+07</td>\n",
       "      <td>0.000000e+00</td>\n",
       "      <td>0.000000</td>\n",
       "      <td>0.000000</td>\n",
       "      <td>...</td>\n",
       "      <td>0.000000</td>\n",
       "      <td>0.750000</td>\n",
       "      <td>-1.200000e+07</td>\n",
       "      <td>0.000000e+00</td>\n",
       "      <td>0.000000</td>\n",
       "      <td>-0.632000</td>\n",
       "      <td>-0.126000</td>\n",
       "      <td>-0.569000</td>\n",
       "      <td>0.000288</td>\n",
       "      <td>0.000000</td>\n",
       "    </tr>\n",
       "    <tr>\n",
       "      <th>25%</th>\n",
       "      <td>3839.500000</td>\n",
       "      <td>2.000000</td>\n",
       "      <td>1.571995e+06</td>\n",
       "      <td>5.000000e+06</td>\n",
       "      <td>6.569765e+05</td>\n",
       "      <td>0.000000e+00</td>\n",
       "      <td>0.000000e+00</td>\n",
       "      <td>0.000000e+00</td>\n",
       "      <td>0.000000</td>\n",
       "      <td>0.000000</td>\n",
       "      <td>...</td>\n",
       "      <td>0.000000</td>\n",
       "      <td>2.830000</td>\n",
       "      <td>0.000000e+00</td>\n",
       "      <td>0.000000e+00</td>\n",
       "      <td>0.000000</td>\n",
       "      <td>0.000000</td>\n",
       "      <td>0.027800</td>\n",
       "      <td>0.026300</td>\n",
       "      <td>0.154000</td>\n",
       "      <td>0.130000</td>\n",
       "    </tr>\n",
       "    <tr>\n",
       "      <th>50%</th>\n",
       "      <td>7705.000000</td>\n",
       "      <td>2.000000</td>\n",
       "      <td>3.850823e+06</td>\n",
       "      <td>8.000000e+06</td>\n",
       "      <td>2.612858e+06</td>\n",
       "      <td>0.000000e+00</td>\n",
       "      <td>1.095000e+05</td>\n",
       "      <td>2.255200e+06</td>\n",
       "      <td>26.600000</td>\n",
       "      <td>0.000000</td>\n",
       "      <td>...</td>\n",
       "      <td>0.000000</td>\n",
       "      <td>5.420000</td>\n",
       "      <td>1.490000e+05</td>\n",
       "      <td>9.797560e+05</td>\n",
       "      <td>0.262090</td>\n",
       "      <td>0.013900</td>\n",
       "      <td>0.096300</td>\n",
       "      <td>0.106796</td>\n",
       "      <td>0.524000</td>\n",
       "      <td>0.464000</td>\n",
       "    </tr>\n",
       "    <tr>\n",
       "      <th>75%</th>\n",
       "      <td>11611.500000</td>\n",
       "      <td>3.000000</td>\n",
       "      <td>7.499576e+06</td>\n",
       "      <td>1.900000e+07</td>\n",
       "      <td>5.537610e+06</td>\n",
       "      <td>0.000000e+00</td>\n",
       "      <td>9.029000e+05</td>\n",
       "      <td>5.586080e+06</td>\n",
       "      <td>100.000000</td>\n",
       "      <td>0.000000</td>\n",
       "      <td>...</td>\n",
       "      <td>0.000000</td>\n",
       "      <td>8.670000</td>\n",
       "      <td>1.000000e+06</td>\n",
       "      <td>2.480130e+06</td>\n",
       "      <td>0.900000</td>\n",
       "      <td>0.102000</td>\n",
       "      <td>0.218750</td>\n",
       "      <td>0.264500</td>\n",
       "      <td>0.894000</td>\n",
       "      <td>0.842000</td>\n",
       "    </tr>\n",
       "    <tr>\n",
       "      <th>max</th>\n",
       "      <td>15493.000000</td>\n",
       "      <td>16.000000</td>\n",
       "      <td>7.980586e+08</td>\n",
       "      <td>1.000000e+09</td>\n",
       "      <td>6.280000e+08</td>\n",
       "      <td>1.500000e+07</td>\n",
       "      <td>1.520000e+08</td>\n",
       "      <td>4.440000e+08</td>\n",
       "      <td>68983.000000</td>\n",
       "      <td>189.000000</td>\n",
       "      <td>...</td>\n",
       "      <td>1.000000</td>\n",
       "      <td>32.900000</td>\n",
       "      <td>1.520000e+08</td>\n",
       "      <td>1.480000e+08</td>\n",
       "      <td>5.530000</td>\n",
       "      <td>1.270000</td>\n",
       "      <td>2.010000</td>\n",
       "      <td>8.110000</td>\n",
       "      <td>8.125671</td>\n",
       "      <td>9.730000</td>\n",
       "    </tr>\n",
       "  </tbody>\n",
       "</table>\n",
       "<p>8 rows × 23 columns</p>\n",
       "</div>"
      ],
      "text/plain": [
       "                 id  jumlah_kartu   outstanding  limit_kredit       tagihan  \\\n",
       "count  13459.000000  13459.000000  1.345900e+04  1.345900e+04  1.345900e+04   \n",
       "mean    7720.642098      2.376402  6.859532e+06  1.600479e+07  4.875820e+06   \n",
       "std     4475.033870      0.795904  1.528072e+07  2.395373e+07  1.136996e+07   \n",
       "min        1.000000      1.000000  0.000000e+00  3.000000e+06  2.004300e+04   \n",
       "25%     3839.500000      2.000000  1.571995e+06  5.000000e+06  6.569765e+05   \n",
       "50%     7705.000000      2.000000  3.850823e+06  8.000000e+06  2.612858e+06   \n",
       "75%    11611.500000      3.000000  7.499576e+06  1.900000e+07  5.537610e+06   \n",
       "max    15493.000000     16.000000  7.980586e+08  1.000000e+09  6.280000e+08   \n",
       "\n",
       "       total_pemakaian_tunai  total_pemakaian_retail  \\\n",
       "count           1.345900e+04            1.345900e+04   \n",
       "mean            4.459329e+04            8.984658e+05   \n",
       "std             3.537127e+05            2.561418e+06   \n",
       "min             0.000000e+00           -1.200000e+07   \n",
       "25%             0.000000e+00            0.000000e+00   \n",
       "50%             0.000000e+00            1.095000e+05   \n",
       "75%             0.000000e+00            9.029000e+05   \n",
       "max             1.500000e+07            1.520000e+08   \n",
       "\n",
       "       sisa_tagihan_tidak_terbayar  rasio_pembayaran  persentasi_overlimit  \\\n",
       "count                 1.345900e+04      13459.000000          13459.000000   \n",
       "mean                  4.822436e+06         60.379597              2.934699   \n",
       "std                   1.242972e+07        629.464282              8.385325   \n",
       "min                   0.000000e+00          0.000000              0.000000   \n",
       "25%                   0.000000e+00          0.000000              0.000000   \n",
       "50%                   2.255200e+06         26.600000              0.000000   \n",
       "75%                   5.586080e+06        100.000000              0.000000   \n",
       "max                   4.440000e+08      68983.000000            189.000000   \n",
       "\n",
       "             ...         flag_kredit_macet  \\\n",
       "count        ...              13459.000000   \n",
       "mean         ...                  0.100973   \n",
       "std          ...                  0.301305   \n",
       "min          ...                  0.000000   \n",
       "25%          ...                  0.000000   \n",
       "50%          ...                  0.000000   \n",
       "75%          ...                  0.000000   \n",
       "max          ...                  1.000000   \n",
       "\n",
       "       jumlah_tahun_sejak_pembukaan_kredit  total_pemakaian  \\\n",
       "count                         13459.000000     1.345900e+04   \n",
       "mean                              6.293546     9.430591e+05   \n",
       "std                               4.429554     2.585494e+06   \n",
       "min                               0.750000    -1.200000e+07   \n",
       "25%                               2.830000     0.000000e+00   \n",
       "50%                               5.420000     1.490000e+05   \n",
       "75%                               8.670000     1.000000e+06   \n",
       "max                              32.900000     1.520000e+08   \n",
       "\n",
       "       sisa_tagihan_per_jumlah_kartu  sisa_tagihan_per_limit  \\\n",
       "count                   1.345900e+04            13459.000000   \n",
       "mean                    1.931639e+06                0.442446   \n",
       "std                     4.103413e+06                0.463139   \n",
       "min                     0.000000e+00                0.000000   \n",
       "25%                     0.000000e+00                0.000000   \n",
       "50%                     9.797560e+05                0.262090   \n",
       "75%                     2.480130e+06                0.900000   \n",
       "max                     1.480000e+08                5.530000   \n",
       "\n",
       "       total_pemakaian_per_limit  pemakaian_3bln_per_limit  \\\n",
       "count               13459.000000              13459.000000   \n",
       "mean                    0.086310                  0.148454   \n",
       "std                     0.157144                  0.163793   \n",
       "min                    -0.632000                 -0.126000   \n",
       "25%                     0.000000                  0.027800   \n",
       "50%                     0.013900                  0.096300   \n",
       "75%                     0.102000                  0.218750   \n",
       "max                     1.270000                  2.010000   \n",
       "\n",
       "       pemakaian_6bln_per_limit  utilisasi_3bulan  utilisasi_6bulan  \n",
       "count              13459.000000      13459.000000      13459.000000  \n",
       "mean                   0.184162          0.539295          0.509423  \n",
       "std                    0.248340          0.402185          0.417610  \n",
       "min                   -0.569000          0.000288          0.000000  \n",
       "25%                    0.026300          0.154000          0.130000  \n",
       "50%                    0.106796          0.524000          0.464000  \n",
       "75%                    0.264500          0.894000          0.842000  \n",
       "max                    8.110000          8.125671          9.730000  \n",
       "\n",
       "[8 rows x 23 columns]"
      ]
     },
     "execution_count": 27,
     "metadata": {},
     "output_type": "execute_result"
    }
   ],
   "source": [
    "df_train.describe()"
   ]
  },
  {
   "cell_type": "markdown",
   "metadata": {},
   "source": [
    "# Clamp Transformation"
   ]
  },
  {
   "cell_type": "code",
   "execution_count": 28,
   "metadata": {},
   "outputs": [],
   "source": [
    "batasMaxRas = (df_train['rasio_pembayaran'].mean()) + (2 * df_train['rasio_pembayaran'].std())\n",
    "batasMaxRas3bln = (df_train['rasio_pembayaran_3bulan'].mean()) + (2 * df_train['rasio_pembayaran'].std())\n",
    "batasMaxRas6bln = (df_train['rasio_pembayaran_6bulan'].mean()) + (2 * df_train['rasio_pembayaran'].std())"
   ]
  },
  {
   "cell_type": "code",
   "execution_count": 29,
   "metadata": {},
   "outputs": [],
   "source": [
    "df_train['rasio_pembayaran'] = df_train['rasio_pembayaran'].apply(lambda ras : 0 if ras > batasMaxRas  else ras)\n",
    "df_train['rasio_pembayaran_3bulan'] = df_train['rasio_pembayaran_3bulan'].apply(lambda ras : 0 if ras > batasMaxRas3bln else ras)\n",
    "df_train['rasio_pembayaran_6bulan'] = df_train['rasio_pembayaran_6bulan'].apply(lambda ras : 0 if ras > batasMaxRas6bln else ras)"
   ]
  },
  {
   "cell_type": "code",
   "execution_count": 30,
   "metadata": {},
   "outputs": [
    {
     "data": {
      "text/html": [
       "<div>\n",
       "<style scoped>\n",
       "    .dataframe tbody tr th:only-of-type {\n",
       "        vertical-align: middle;\n",
       "    }\n",
       "\n",
       "    .dataframe tbody tr th {\n",
       "        vertical-align: top;\n",
       "    }\n",
       "\n",
       "    .dataframe thead th {\n",
       "        text-align: right;\n",
       "    }\n",
       "</style>\n",
       "<table border=\"1\" class=\"dataframe\">\n",
       "  <thead>\n",
       "    <tr style=\"text-align: right;\">\n",
       "      <th></th>\n",
       "      <th>id</th>\n",
       "      <th>jumlah_kartu</th>\n",
       "      <th>outstanding</th>\n",
       "      <th>limit_kredit</th>\n",
       "      <th>tagihan</th>\n",
       "      <th>total_pemakaian_tunai</th>\n",
       "      <th>total_pemakaian_retail</th>\n",
       "      <th>sisa_tagihan_tidak_terbayar</th>\n",
       "      <th>rasio_pembayaran</th>\n",
       "      <th>persentasi_overlimit</th>\n",
       "      <th>...</th>\n",
       "      <th>flag_kredit_macet</th>\n",
       "      <th>jumlah_tahun_sejak_pembukaan_kredit</th>\n",
       "      <th>total_pemakaian</th>\n",
       "      <th>sisa_tagihan_per_jumlah_kartu</th>\n",
       "      <th>sisa_tagihan_per_limit</th>\n",
       "      <th>total_pemakaian_per_limit</th>\n",
       "      <th>pemakaian_3bln_per_limit</th>\n",
       "      <th>pemakaian_6bln_per_limit</th>\n",
       "      <th>utilisasi_3bulan</th>\n",
       "      <th>utilisasi_6bulan</th>\n",
       "    </tr>\n",
       "  </thead>\n",
       "  <tbody>\n",
       "    <tr>\n",
       "      <th>count</th>\n",
       "      <td>13459.000000</td>\n",
       "      <td>13459.000000</td>\n",
       "      <td>1.345900e+04</td>\n",
       "      <td>1.345900e+04</td>\n",
       "      <td>1.345900e+04</td>\n",
       "      <td>1.345900e+04</td>\n",
       "      <td>1.345900e+04</td>\n",
       "      <td>1.345900e+04</td>\n",
       "      <td>13459.000000</td>\n",
       "      <td>13459.000000</td>\n",
       "      <td>...</td>\n",
       "      <td>13459.000000</td>\n",
       "      <td>13459.000000</td>\n",
       "      <td>1.345900e+04</td>\n",
       "      <td>1.345900e+04</td>\n",
       "      <td>13459.000000</td>\n",
       "      <td>13459.000000</td>\n",
       "      <td>13459.000000</td>\n",
       "      <td>13459.000000</td>\n",
       "      <td>13459.000000</td>\n",
       "      <td>13459.000000</td>\n",
       "    </tr>\n",
       "    <tr>\n",
       "      <th>mean</th>\n",
       "      <td>7720.642098</td>\n",
       "      <td>2.376402</td>\n",
       "      <td>6.859532e+06</td>\n",
       "      <td>1.600479e+07</td>\n",
       "      <td>4.875820e+06</td>\n",
       "      <td>4.459329e+04</td>\n",
       "      <td>8.984658e+05</td>\n",
       "      <td>4.822436e+06</td>\n",
       "      <td>49.435258</td>\n",
       "      <td>2.934699</td>\n",
       "      <td>...</td>\n",
       "      <td>0.100973</td>\n",
       "      <td>6.293546</td>\n",
       "      <td>9.430591e+05</td>\n",
       "      <td>1.931639e+06</td>\n",
       "      <td>0.442446</td>\n",
       "      <td>0.086310</td>\n",
       "      <td>0.148454</td>\n",
       "      <td>0.184162</td>\n",
       "      <td>0.539295</td>\n",
       "      <td>0.509423</td>\n",
       "    </tr>\n",
       "    <tr>\n",
       "      <th>std</th>\n",
       "      <td>4475.033870</td>\n",
       "      <td>0.795904</td>\n",
       "      <td>1.528072e+07</td>\n",
       "      <td>2.395373e+07</td>\n",
       "      <td>1.136996e+07</td>\n",
       "      <td>3.537127e+05</td>\n",
       "      <td>2.561418e+06</td>\n",
       "      <td>1.242972e+07</td>\n",
       "      <td>53.741105</td>\n",
       "      <td>8.385325</td>\n",
       "      <td>...</td>\n",
       "      <td>0.301305</td>\n",
       "      <td>4.429554</td>\n",
       "      <td>2.585494e+06</td>\n",
       "      <td>4.103413e+06</td>\n",
       "      <td>0.463139</td>\n",
       "      <td>0.157144</td>\n",
       "      <td>0.163793</td>\n",
       "      <td>0.248340</td>\n",
       "      <td>0.402185</td>\n",
       "      <td>0.417610</td>\n",
       "    </tr>\n",
       "    <tr>\n",
       "      <th>min</th>\n",
       "      <td>1.000000</td>\n",
       "      <td>1.000000</td>\n",
       "      <td>0.000000e+00</td>\n",
       "      <td>3.000000e+06</td>\n",
       "      <td>2.004300e+04</td>\n",
       "      <td>0.000000e+00</td>\n",
       "      <td>-1.200000e+07</td>\n",
       "      <td>0.000000e+00</td>\n",
       "      <td>0.000000</td>\n",
       "      <td>0.000000</td>\n",
       "      <td>...</td>\n",
       "      <td>0.000000</td>\n",
       "      <td>0.750000</td>\n",
       "      <td>-1.200000e+07</td>\n",
       "      <td>0.000000e+00</td>\n",
       "      <td>0.000000</td>\n",
       "      <td>-0.632000</td>\n",
       "      <td>-0.126000</td>\n",
       "      <td>-0.569000</td>\n",
       "      <td>0.000288</td>\n",
       "      <td>0.000000</td>\n",
       "    </tr>\n",
       "    <tr>\n",
       "      <th>25%</th>\n",
       "      <td>3839.500000</td>\n",
       "      <td>2.000000</td>\n",
       "      <td>1.571995e+06</td>\n",
       "      <td>5.000000e+06</td>\n",
       "      <td>6.569765e+05</td>\n",
       "      <td>0.000000e+00</td>\n",
       "      <td>0.000000e+00</td>\n",
       "      <td>0.000000e+00</td>\n",
       "      <td>0.000000</td>\n",
       "      <td>0.000000</td>\n",
       "      <td>...</td>\n",
       "      <td>0.000000</td>\n",
       "      <td>2.830000</td>\n",
       "      <td>0.000000e+00</td>\n",
       "      <td>0.000000e+00</td>\n",
       "      <td>0.000000</td>\n",
       "      <td>0.000000</td>\n",
       "      <td>0.027800</td>\n",
       "      <td>0.026300</td>\n",
       "      <td>0.154000</td>\n",
       "      <td>0.130000</td>\n",
       "    </tr>\n",
       "    <tr>\n",
       "      <th>50%</th>\n",
       "      <td>7705.000000</td>\n",
       "      <td>2.000000</td>\n",
       "      <td>3.850823e+06</td>\n",
       "      <td>8.000000e+06</td>\n",
       "      <td>2.612858e+06</td>\n",
       "      <td>0.000000e+00</td>\n",
       "      <td>1.095000e+05</td>\n",
       "      <td>2.255200e+06</td>\n",
       "      <td>26.500000</td>\n",
       "      <td>0.000000</td>\n",
       "      <td>...</td>\n",
       "      <td>0.000000</td>\n",
       "      <td>5.420000</td>\n",
       "      <td>1.490000e+05</td>\n",
       "      <td>9.797560e+05</td>\n",
       "      <td>0.262090</td>\n",
       "      <td>0.013900</td>\n",
       "      <td>0.096300</td>\n",
       "      <td>0.106796</td>\n",
       "      <td>0.524000</td>\n",
       "      <td>0.464000</td>\n",
       "    </tr>\n",
       "    <tr>\n",
       "      <th>75%</th>\n",
       "      <td>11611.500000</td>\n",
       "      <td>3.000000</td>\n",
       "      <td>7.499576e+06</td>\n",
       "      <td>1.900000e+07</td>\n",
       "      <td>5.537610e+06</td>\n",
       "      <td>0.000000e+00</td>\n",
       "      <td>9.029000e+05</td>\n",
       "      <td>5.586080e+06</td>\n",
       "      <td>100.000000</td>\n",
       "      <td>0.000000</td>\n",
       "      <td>...</td>\n",
       "      <td>0.000000</td>\n",
       "      <td>8.670000</td>\n",
       "      <td>1.000000e+06</td>\n",
       "      <td>2.480130e+06</td>\n",
       "      <td>0.900000</td>\n",
       "      <td>0.102000</td>\n",
       "      <td>0.218750</td>\n",
       "      <td>0.264500</td>\n",
       "      <td>0.894000</td>\n",
       "      <td>0.842000</td>\n",
       "    </tr>\n",
       "    <tr>\n",
       "      <th>max</th>\n",
       "      <td>15493.000000</td>\n",
       "      <td>16.000000</td>\n",
       "      <td>7.980586e+08</td>\n",
       "      <td>1.000000e+09</td>\n",
       "      <td>6.280000e+08</td>\n",
       "      <td>1.500000e+07</td>\n",
       "      <td>1.520000e+08</td>\n",
       "      <td>4.440000e+08</td>\n",
       "      <td>1300.000000</td>\n",
       "      <td>189.000000</td>\n",
       "      <td>...</td>\n",
       "      <td>1.000000</td>\n",
       "      <td>32.900000</td>\n",
       "      <td>1.520000e+08</td>\n",
       "      <td>1.480000e+08</td>\n",
       "      <td>5.530000</td>\n",
       "      <td>1.270000</td>\n",
       "      <td>2.010000</td>\n",
       "      <td>8.110000</td>\n",
       "      <td>8.125671</td>\n",
       "      <td>9.730000</td>\n",
       "    </tr>\n",
       "  </tbody>\n",
       "</table>\n",
       "<p>8 rows × 23 columns</p>\n",
       "</div>"
      ],
      "text/plain": [
       "                 id  jumlah_kartu   outstanding  limit_kredit       tagihan  \\\n",
       "count  13459.000000  13459.000000  1.345900e+04  1.345900e+04  1.345900e+04   \n",
       "mean    7720.642098      2.376402  6.859532e+06  1.600479e+07  4.875820e+06   \n",
       "std     4475.033870      0.795904  1.528072e+07  2.395373e+07  1.136996e+07   \n",
       "min        1.000000      1.000000  0.000000e+00  3.000000e+06  2.004300e+04   \n",
       "25%     3839.500000      2.000000  1.571995e+06  5.000000e+06  6.569765e+05   \n",
       "50%     7705.000000      2.000000  3.850823e+06  8.000000e+06  2.612858e+06   \n",
       "75%    11611.500000      3.000000  7.499576e+06  1.900000e+07  5.537610e+06   \n",
       "max    15493.000000     16.000000  7.980586e+08  1.000000e+09  6.280000e+08   \n",
       "\n",
       "       total_pemakaian_tunai  total_pemakaian_retail  \\\n",
       "count           1.345900e+04            1.345900e+04   \n",
       "mean            4.459329e+04            8.984658e+05   \n",
       "std             3.537127e+05            2.561418e+06   \n",
       "min             0.000000e+00           -1.200000e+07   \n",
       "25%             0.000000e+00            0.000000e+00   \n",
       "50%             0.000000e+00            1.095000e+05   \n",
       "75%             0.000000e+00            9.029000e+05   \n",
       "max             1.500000e+07            1.520000e+08   \n",
       "\n",
       "       sisa_tagihan_tidak_terbayar  rasio_pembayaran  persentasi_overlimit  \\\n",
       "count                 1.345900e+04      13459.000000          13459.000000   \n",
       "mean                  4.822436e+06         49.435258              2.934699   \n",
       "std                   1.242972e+07         53.741105              8.385325   \n",
       "min                   0.000000e+00          0.000000              0.000000   \n",
       "25%                   0.000000e+00          0.000000              0.000000   \n",
       "50%                   2.255200e+06         26.500000              0.000000   \n",
       "75%                   5.586080e+06        100.000000              0.000000   \n",
       "max                   4.440000e+08       1300.000000            189.000000   \n",
       "\n",
       "             ...         flag_kredit_macet  \\\n",
       "count        ...              13459.000000   \n",
       "mean         ...                  0.100973   \n",
       "std          ...                  0.301305   \n",
       "min          ...                  0.000000   \n",
       "25%          ...                  0.000000   \n",
       "50%          ...                  0.000000   \n",
       "75%          ...                  0.000000   \n",
       "max          ...                  1.000000   \n",
       "\n",
       "       jumlah_tahun_sejak_pembukaan_kredit  total_pemakaian  \\\n",
       "count                         13459.000000     1.345900e+04   \n",
       "mean                              6.293546     9.430591e+05   \n",
       "std                               4.429554     2.585494e+06   \n",
       "min                               0.750000    -1.200000e+07   \n",
       "25%                               2.830000     0.000000e+00   \n",
       "50%                               5.420000     1.490000e+05   \n",
       "75%                               8.670000     1.000000e+06   \n",
       "max                              32.900000     1.520000e+08   \n",
       "\n",
       "       sisa_tagihan_per_jumlah_kartu  sisa_tagihan_per_limit  \\\n",
       "count                   1.345900e+04            13459.000000   \n",
       "mean                    1.931639e+06                0.442446   \n",
       "std                     4.103413e+06                0.463139   \n",
       "min                     0.000000e+00                0.000000   \n",
       "25%                     0.000000e+00                0.000000   \n",
       "50%                     9.797560e+05                0.262090   \n",
       "75%                     2.480130e+06                0.900000   \n",
       "max                     1.480000e+08                5.530000   \n",
       "\n",
       "       total_pemakaian_per_limit  pemakaian_3bln_per_limit  \\\n",
       "count               13459.000000              13459.000000   \n",
       "mean                    0.086310                  0.148454   \n",
       "std                     0.157144                  0.163793   \n",
       "min                    -0.632000                 -0.126000   \n",
       "25%                     0.000000                  0.027800   \n",
       "50%                     0.013900                  0.096300   \n",
       "75%                     0.102000                  0.218750   \n",
       "max                     1.270000                  2.010000   \n",
       "\n",
       "       pemakaian_6bln_per_limit  utilisasi_3bulan  utilisasi_6bulan  \n",
       "count              13459.000000      13459.000000      13459.000000  \n",
       "mean                   0.184162          0.539295          0.509423  \n",
       "std                    0.248340          0.402185          0.417610  \n",
       "min                   -0.569000          0.000288          0.000000  \n",
       "25%                    0.026300          0.154000          0.130000  \n",
       "50%                    0.106796          0.524000          0.464000  \n",
       "75%                    0.264500          0.894000          0.842000  \n",
       "max                    8.110000          8.125671          9.730000  \n",
       "\n",
       "[8 rows x 23 columns]"
      ]
     },
     "execution_count": 30,
     "metadata": {},
     "output_type": "execute_result"
    }
   ],
   "source": [
    "df_train.describe()"
   ]
  },
  {
   "cell_type": "markdown",
   "metadata": {},
   "source": [
    "# One hot Encoding Category Vaiables"
   ]
  },
  {
   "cell_type": "code",
   "execution_count": 31,
   "metadata": {},
   "outputs": [
    {
     "data": {
      "text/html": [
       "<div>\n",
       "<style scoped>\n",
       "    .dataframe tbody tr th:only-of-type {\n",
       "        vertical-align: middle;\n",
       "    }\n",
       "\n",
       "    .dataframe tbody tr th {\n",
       "        vertical-align: top;\n",
       "    }\n",
       "\n",
       "    .dataframe thead th {\n",
       "        text-align: right;\n",
       "    }\n",
       "</style>\n",
       "<table border=\"1\" class=\"dataframe\">\n",
       "  <thead>\n",
       "    <tr style=\"text-align: right;\">\n",
       "      <th></th>\n",
       "      <th>id</th>\n",
       "      <th>jumlah_kartu</th>\n",
       "      <th>outstanding</th>\n",
       "      <th>limit_kredit</th>\n",
       "      <th>tagihan</th>\n",
       "      <th>total_pemakaian_tunai</th>\n",
       "      <th>total_pemakaian_retail</th>\n",
       "      <th>sisa_tagihan_tidak_terbayar</th>\n",
       "      <th>rasio_pembayaran</th>\n",
       "      <th>persentasi_overlimit</th>\n",
       "      <th>...</th>\n",
       "      <th>B</th>\n",
       "      <th>C</th>\n",
       "      <th>D</th>\n",
       "      <th>E</th>\n",
       "      <th>F</th>\n",
       "      <th>G</th>\n",
       "      <th>H</th>\n",
       "      <th>I</th>\n",
       "      <th>J</th>\n",
       "      <th>K</th>\n",
       "    </tr>\n",
       "  </thead>\n",
       "  <tbody>\n",
       "    <tr>\n",
       "      <th>0</th>\n",
       "      <td>1</td>\n",
       "      <td>2</td>\n",
       "      <td>36158</td>\n",
       "      <td>7000000.0</td>\n",
       "      <td>23437.0</td>\n",
       "      <td>0.0</td>\n",
       "      <td>94.0</td>\n",
       "      <td>26323.0</td>\n",
       "      <td>102.19</td>\n",
       "      <td>0.0</td>\n",
       "      <td>...</td>\n",
       "      <td>0</td>\n",
       "      <td>0</td>\n",
       "      <td>0</td>\n",
       "      <td>0</td>\n",
       "      <td>0</td>\n",
       "      <td>0</td>\n",
       "      <td>0</td>\n",
       "      <td>1</td>\n",
       "      <td>0</td>\n",
       "      <td>0</td>\n",
       "    </tr>\n",
       "    <tr>\n",
       "      <th>1</th>\n",
       "      <td>2</td>\n",
       "      <td>2</td>\n",
       "      <td>268691</td>\n",
       "      <td>10000000.0</td>\n",
       "      <td>254564.0</td>\n",
       "      <td>0.0</td>\n",
       "      <td>1012.0</td>\n",
       "      <td>0.0</td>\n",
       "      <td>0.00</td>\n",
       "      <td>0.0</td>\n",
       "      <td>...</td>\n",
       "      <td>0</td>\n",
       "      <td>0</td>\n",
       "      <td>0</td>\n",
       "      <td>0</td>\n",
       "      <td>0</td>\n",
       "      <td>0</td>\n",
       "      <td>0</td>\n",
       "      <td>0</td>\n",
       "      <td>0</td>\n",
       "      <td>0</td>\n",
       "    </tr>\n",
       "    <tr>\n",
       "      <th>2</th>\n",
       "      <td>3</td>\n",
       "      <td>3</td>\n",
       "      <td>6769149</td>\n",
       "      <td>28000000.0</td>\n",
       "      <td>4159779.0</td>\n",
       "      <td>0.0</td>\n",
       "      <td>0.0</td>\n",
       "      <td>0.0</td>\n",
       "      <td>100.00</td>\n",
       "      <td>0.0</td>\n",
       "      <td>...</td>\n",
       "      <td>0</td>\n",
       "      <td>0</td>\n",
       "      <td>0</td>\n",
       "      <td>0</td>\n",
       "      <td>0</td>\n",
       "      <td>0</td>\n",
       "      <td>0</td>\n",
       "      <td>0</td>\n",
       "      <td>0</td>\n",
       "      <td>0</td>\n",
       "    </tr>\n",
       "    <tr>\n",
       "      <th>3</th>\n",
       "      <td>4</td>\n",
       "      <td>4</td>\n",
       "      <td>3496732</td>\n",
       "      <td>21000000.0</td>\n",
       "      <td>111231.0</td>\n",
       "      <td>0.0</td>\n",
       "      <td>2536660.0</td>\n",
       "      <td>581334.0</td>\n",
       "      <td>100.00</td>\n",
       "      <td>0.0</td>\n",
       "      <td>...</td>\n",
       "      <td>0</td>\n",
       "      <td>0</td>\n",
       "      <td>0</td>\n",
       "      <td>0</td>\n",
       "      <td>0</td>\n",
       "      <td>1</td>\n",
       "      <td>0</td>\n",
       "      <td>0</td>\n",
       "      <td>0</td>\n",
       "      <td>0</td>\n",
       "    </tr>\n",
       "    <tr>\n",
       "      <th>4</th>\n",
       "      <td>5</td>\n",
       "      <td>2</td>\n",
       "      <td>9402085</td>\n",
       "      <td>10000000.0</td>\n",
       "      <td>6099283.0</td>\n",
       "      <td>0.0</td>\n",
       "      <td>2666558.0</td>\n",
       "      <td>5951865.0</td>\n",
       "      <td>95.99</td>\n",
       "      <td>0.0</td>\n",
       "      <td>...</td>\n",
       "      <td>0</td>\n",
       "      <td>0</td>\n",
       "      <td>0</td>\n",
       "      <td>0</td>\n",
       "      <td>0</td>\n",
       "      <td>0</td>\n",
       "      <td>0</td>\n",
       "      <td>0</td>\n",
       "      <td>0</td>\n",
       "      <td>0</td>\n",
       "    </tr>\n",
       "  </tbody>\n",
       "</table>\n",
       "<p>5 rows × 37 columns</p>\n",
       "</div>"
      ],
      "text/plain": [
       "   id  jumlah_kartu  outstanding  limit_kredit    tagihan  \\\n",
       "0   1             2        36158     7000000.0    23437.0   \n",
       "1   2             2       268691    10000000.0   254564.0   \n",
       "2   3             3      6769149    28000000.0  4159779.0   \n",
       "3   4             4      3496732    21000000.0   111231.0   \n",
       "4   5             2      9402085    10000000.0  6099283.0   \n",
       "\n",
       "   total_pemakaian_tunai  total_pemakaian_retail  sisa_tagihan_tidak_terbayar  \\\n",
       "0                    0.0                    94.0                      26323.0   \n",
       "1                    0.0                  1012.0                          0.0   \n",
       "2                    0.0                     0.0                          0.0   \n",
       "3                    0.0               2536660.0                     581334.0   \n",
       "4                    0.0               2666558.0                    5951865.0   \n",
       "\n",
       "   rasio_pembayaran  persentasi_overlimit ...  B  C  D  E  F  G  H  I  J  K  \n",
       "0            102.19                   0.0 ...  0  0  0  0  0  0  0  1  0  0  \n",
       "1              0.00                   0.0 ...  0  0  0  0  0  0  0  0  0  0  \n",
       "2            100.00                   0.0 ...  0  0  0  0  0  0  0  0  0  0  \n",
       "3            100.00                   0.0 ...  0  0  0  0  0  1  0  0  0  0  \n",
       "4             95.99                   0.0 ...  0  0  0  0  0  0  0  0  0  0  \n",
       "\n",
       "[5 rows x 37 columns]"
      ]
     },
     "execution_count": 31,
     "metadata": {},
     "output_type": "execute_result"
    }
   ],
   "source": [
    "skordelikuensi = pd.get_dummies(df_train['skor_delikuensi'], drop_first=True)\n",
    "kode = pd.get_dummies(df_train['kode_cabang'], drop_first=True)\n",
    "df_train.drop(['skor_delikuensi','kode_cabang'],axis=1,inplace=True)\n",
    "df_train = pd.concat([df_train,skordelikuensi,kode],axis=1)\n",
    "df_train.head()"
   ]
  },
  {
   "cell_type": "markdown",
   "metadata": {},
   "source": [
    "# Random Forest Classifier"
   ]
  },
  {
   "cell_type": "code",
   "execution_count": 32,
   "metadata": {},
   "outputs": [],
   "source": [
    "data = df_train.drop(['id','flag_kredit_macet'], axis=1)\n",
    "target = df_train['flag_kredit_macet']"
   ]
  },
  {
   "cell_type": "code",
   "execution_count": 33,
   "metadata": {},
   "outputs": [],
   "source": [
    "from sklearn.model_selection import train_test_split\n",
    "X_train, X_test, y_train, y_test = train_test_split(data,target,test_size=0.30, random_state=101)"
   ]
  },
  {
   "cell_type": "code",
   "execution_count": 34,
   "metadata": {},
   "outputs": [],
   "source": [
    "from sklearn.ensemble import RandomForestClassifier"
   ]
  },
  {
   "cell_type": "code",
   "execution_count": 35,
   "metadata": {},
   "outputs": [],
   "source": [
    "rfc = RandomForestClassifier(n_estimators=100, random_state=101)"
   ]
  },
  {
   "cell_type": "code",
   "execution_count": 36,
   "metadata": {},
   "outputs": [
    {
     "data": {
      "text/plain": [
       "RandomForestClassifier(bootstrap=True, class_weight=None, criterion='gini',\n",
       "            max_depth=None, max_features='auto', max_leaf_nodes=None,\n",
       "            min_impurity_decrease=0.0, min_impurity_split=None,\n",
       "            min_samples_leaf=1, min_samples_split=2,\n",
       "            min_weight_fraction_leaf=0.0, n_estimators=100, n_jobs=None,\n",
       "            oob_score=False, random_state=101, verbose=0, warm_start=False)"
      ]
     },
     "execution_count": 36,
     "metadata": {},
     "output_type": "execute_result"
    }
   ],
   "source": [
    "rfc.fit(X_train,y_train)"
   ]
  },
  {
   "cell_type": "code",
   "execution_count": 37,
   "metadata": {},
   "outputs": [],
   "source": [
    "from sklearn.metrics import classification_report, matthews_corrcoef, roc_auc_score, confusion_matrix, accuracy_score, roc_curve, auc"
   ]
  },
  {
   "cell_type": "code",
   "execution_count": 38,
   "metadata": {},
   "outputs": [
    {
     "name": "stdout",
     "output_type": "stream",
     "text": [
      "[[3602   51]\n",
      " [ 272  113]]\n",
      "              precision    recall  f1-score   support\n",
      "\n",
      "           0       0.93      0.99      0.96      3653\n",
      "           1       0.69      0.29      0.41       385\n",
      "\n",
      "   micro avg       0.92      0.92      0.92      4038\n",
      "   macro avg       0.81      0.64      0.68      4038\n",
      "weighted avg       0.91      0.92      0.91      4038\n",
      "\n",
      "ROC AUC : 0.8730806559988054\n",
      "Accuracy : 0.9200099058940069\n",
      "Matthews Corr_coef : 0.4159161319916127\n"
     ]
    }
   ],
   "source": [
    "predict = rfc.predict(X_test)\n",
    "predictProb = rfc.predict_proba(X_test)\n",
    "\n",
    "print(confusion_matrix(y_test, predict))\n",
    "print(classification_report(y_test, predict))\n",
    "print('ROC AUC :', roc_auc_score(y_test, predictProb[:,1]))\n",
    "print('Accuracy :',accuracy_score(y_test, predict))\n",
    "print('Matthews Corr_coef :',matthews_corrcoef(y_test, predict))"
   ]
  },
  {
   "cell_type": "code",
   "execution_count": 39,
   "metadata": {},
   "outputs": [
    {
     "data": {
      "image/png": "[encoded data removed]",
      "text/plain": [
       "<Figure size 432x288 with 1 Axes>"
      ]
     },
     "metadata": {
      "needs_background": "light"
     },
     "output_type": "display_data"
    }
   ],
   "source": [
    "# calculate the fpr and tpr for all thresholds of the classification\n",
    "preds = predictProb[:,1]\n",
    "fpr, tpr, threshold = roc_curve(y_test, preds)\n",
    "roc_auc = auc(fpr, tpr)\n",
    "\n",
    "# method I: plt\n",
    "import matplotlib.pyplot as plt\n",
    "plt.title('Receiver Operating Characteristic')\n",
    "plt.plot(fpr, tpr, 'b', label = 'AUC = %0.2f' % roc_auc)\n",
    "plt.legend(loc = 'lower right')\n",
    "plt.plot([0, 1], [0, 1],'r--')\n",
    "plt.xlim([0, 1])\n",
    "plt.ylim([0, 1])\n",
    "plt.ylabel('True Positive Rate')\n",
    "plt.xlabel('False Positive Rate')\n",
    "plt.show()"
   ]
  },
  {
   "cell_type": "code",
   "execution_count": 40,
   "metadata": {},
   "outputs": [
    {
     "data": {
      "text/plain": [
       "<matplotlib.axes._subplots.AxesSubplot at 0x19f30ca3240>"
      ]
     },
     "execution_count": 40,
     "metadata": {},
     "output_type": "execute_result"
    },
    {
     "data": {
      "image/png": "[encoded data removed]",
      "text/plain": [
       "<Figure size 432x288 with 1 Axes>"
      ]
     },
     "metadata": {
      "needs_background": "light"
     },
     "output_type": "display_data"
    }
   ],
   "source": [
    "coef1 = pd.Series(rfc.feature_importances_, data.columns).sort_values(ascending = False).head(10)\n",
    "coef1.plot(kind='bar', title='Feature Importances')"
   ]
  },
  {
   "cell_type": "markdown",
   "metadata": {},
   "source": [
    "# Gridsearch"
   ]
  },
  {
   "cell_type": "markdown",
   "metadata": {},
   "source": [
    "cari hyper parameter paling effective"
   ]
  },
  {
   "cell_type": "code",
   "execution_count": 41,
   "metadata": {},
   "outputs": [],
   "source": [
    "# from sklearn.model_selection import GridSearchCV\n",
    "\n",
    "# parameters = {'class_weight' : ({0:1, 1:15},{0:1, 1:20},{0:1, 1:25}),\n",
    "#                 'min_samples_leaf' : (20,30,40)}\n",
    "# rfc = RandomForestClassifier(n_estimators=100, random_state=101)\n",
    "# dt = GridSearchCV(rfc, parameters,scoring = ['roc_auc','recall'],refit = 'roc_auc', cv=5)\n",
    "# dt.fit(X_train, y_train)\n",
    "# dt.best_estimator_\n"
   ]
  },
  {
   "cell_type": "code",
   "execution_count": 42,
   "metadata": {},
   "outputs": [],
   "source": [
    "rfc = RandomForestClassifier(n_estimators=100, random_state=101, class_weight={0:1, 1:15}, min_samples_leaf=15)"
   ]
  },
  {
   "cell_type": "code",
   "execution_count": 43,
   "metadata": {},
   "outputs": [
    {
     "data": {
      "text/plain": [
       "RandomForestClassifier(bootstrap=True, class_weight={0: 1, 1: 15},\n",
       "            criterion='gini', max_depth=None, max_features='auto',\n",
       "            max_leaf_nodes=None, min_impurity_decrease=0.0,\n",
       "            min_impurity_split=None, min_samples_leaf=15,\n",
       "            min_samples_split=2, min_weight_fraction_leaf=0.0,\n",
       "            n_estimators=100, n_jobs=None, oob_score=False,\n",
       "            random_state=101, verbose=0, warm_start=False)"
      ]
     },
     "execution_count": 43,
     "metadata": {},
     "output_type": "execute_result"
    }
   ],
   "source": [
    "rfc.fit(X_train,y_train)"
   ]
  },
  {
   "cell_type": "code",
   "execution_count": 44,
   "metadata": {},
   "outputs": [
    {
     "name": "stdout",
     "output_type": "stream",
     "text": [
      "[[2955  698]\n",
      " [ 100  285]]\n",
      "              precision    recall  f1-score   support\n",
      "\n",
      "           0       0.97      0.81      0.88      3653\n",
      "           1       0.29      0.74      0.42       385\n",
      "\n",
      "   micro avg       0.80      0.80      0.80      4038\n",
      "   macro avg       0.63      0.77      0.65      4038\n",
      "weighted avg       0.90      0.80      0.84      4038\n",
      "\n",
      "ROC AUC : 0.8732996540825723\n",
      "Accuracy : 0.8023774145616642\n"
     ]
    }
   ],
   "source": [
    "predict = rfc.predict(X_test)\n",
    "predictProb = rfc.predict_proba(X_test)\n",
    "\n",
    "print(confusion_matrix(y_test, predict))\n",
    "print(classification_report(y_test, predict))\n",
    "print('ROC AUC :', roc_auc_score(y_test, predictProb[:,1]))\n",
    "print('Accuracy :',accuracy_score(y_test, predict))"
   ]
  },
  {
   "cell_type": "markdown",
   "metadata": {},
   "source": [
    "# Oversampling "
   ]
  },
  {
   "cell_type": "markdown",
   "metadata": {},
   "source": [
    "duplicate data train yang minoritas dngn dirinya sndiri secara random sampai menyamai data train yang majoritas"
   ]
  },
  {
   "cell_type": "code",
   "execution_count": 45,
   "metadata": {},
   "outputs": [],
   "source": [
    "import imblearn"
   ]
  },
  {
   "cell_type": "code",
   "execution_count": 46,
   "metadata": {},
   "outputs": [],
   "source": [
    "from imblearn.over_sampling import RandomOverSampler, SMOTE"
   ]
  },
  {
   "cell_type": "code",
   "execution_count": 47,
   "metadata": {},
   "outputs": [
    {
     "data": {
      "text/plain": [
       "0    8447\n",
       "1     974\n",
       "Name: flag_kredit_macet, dtype: int64"
      ]
     },
     "execution_count": 47,
     "metadata": {},
     "output_type": "execute_result"
    }
   ],
   "source": [
    "y_train.value_counts()"
   ]
  },
  {
   "cell_type": "code",
   "execution_count": 48,
   "metadata": {},
   "outputs": [],
   "source": [
    "ros = RandomOverSampler(random_state=101)\n",
    "X_ros, y_ros = ros.fit_sample(X_train,y_train)"
   ]
  },
  {
   "cell_type": "code",
   "execution_count": 49,
   "metadata": {},
   "outputs": [
    {
     "data": {
      "text/plain": [
       "1    8447\n",
       "0    8447\n",
       "dtype: int64"
      ]
     },
     "execution_count": 49,
     "metadata": {},
     "output_type": "execute_result"
    }
   ],
   "source": [
    "pd.Series(y_ros).value_counts()"
   ]
  },
  {
   "cell_type": "code",
   "execution_count": 50,
   "metadata": {},
   "outputs": [],
   "source": [
    "rfc = RandomForestClassifier(n_estimators=100, random_state=101)"
   ]
  },
  {
   "cell_type": "code",
   "execution_count": 51,
   "metadata": {},
   "outputs": [
    {
     "data": {
      "text/plain": [
       "RandomForestClassifier(bootstrap=True, class_weight=None, criterion='gini',\n",
       "            max_depth=None, max_features='auto', max_leaf_nodes=None,\n",
       "            min_impurity_decrease=0.0, min_impurity_split=None,\n",
       "            min_samples_leaf=1, min_samples_split=2,\n",
       "            min_weight_fraction_leaf=0.0, n_estimators=100, n_jobs=None,\n",
       "            oob_score=False, random_state=101, verbose=0, warm_start=False)"
      ]
     },
     "execution_count": 51,
     "metadata": {},
     "output_type": "execute_result"
    }
   ],
   "source": [
    "rfc.fit(X_ros,y_ros)"
   ]
  },
  {
   "cell_type": "code",
   "execution_count": 52,
   "metadata": {},
   "outputs": [
    {
     "name": "stdout",
     "output_type": "stream",
     "text": [
      "[[3545  108]\n",
      " [ 250  135]]\n",
      "              precision    recall  f1-score   support\n",
      "\n",
      "           0       0.93      0.97      0.95      3653\n",
      "           1       0.56      0.35      0.43       385\n",
      "\n",
      "   micro avg       0.91      0.91      0.91      4038\n",
      "   macro avg       0.74      0.66      0.69      4038\n",
      "weighted avg       0.90      0.91      0.90      4038\n",
      "\n",
      "ROC AUC : 0.8768750822131605\n",
      "Accuracy : 0.9113422486379396\n"
     ]
    }
   ],
   "source": [
    "predict = rfc.predict(X_test)\n",
    "predictProb = rfc.predict_proba(X_test)\n",
    "\n",
    "print(confusion_matrix(y_test, predict))\n",
    "print(classification_report(y_test, predict))\n",
    "print('ROC AUC :', roc_auc_score(y_test, predictProb[:,1]))\n",
    "print('Accuracy :',accuracy_score(y_test, predict))"
   ]
  },
  {
   "cell_type": "markdown",
   "metadata": {},
   "source": [
    "# SMOTE"
   ]
  },
  {
   "cell_type": "code",
   "execution_count": 53,
   "metadata": {},
   "outputs": [],
   "source": [
    "from imblearn.over_sampling import RandomOverSampler, SMOTE"
   ]
  },
  {
   "cell_type": "code",
   "execution_count": 54,
   "metadata": {},
   "outputs": [],
   "source": [
    "smote  = SMOTE(random_state=101)"
   ]
  },
  {
   "cell_type": "code",
   "execution_count": 55,
   "metadata": {},
   "outputs": [],
   "source": [
    "X_smote, y_smote = smote.fit_sample(X_train,y_train)"
   ]
  },
  {
   "cell_type": "code",
   "execution_count": 56,
   "metadata": {},
   "outputs": [
    {
     "data": {
      "text/plain": [
       "1    8447\n",
       "0    8447\n",
       "dtype: int64"
      ]
     },
     "execution_count": 56,
     "metadata": {},
     "output_type": "execute_result"
    }
   ],
   "source": [
    "pd.Series(y_smote).value_counts()"
   ]
  },
  {
   "cell_type": "code",
   "execution_count": 57,
   "metadata": {},
   "outputs": [],
   "source": [
    "rfc = RandomForestClassifier(n_estimators=100, random_state=101)"
   ]
  },
  {
   "cell_type": "code",
   "execution_count": 58,
   "metadata": {},
   "outputs": [
    {
     "data": {
      "text/plain": [
       "RandomForestClassifier(bootstrap=True, class_weight=None, criterion='gini',\n",
       "            max_depth=None, max_features='auto', max_leaf_nodes=None,\n",
       "            min_impurity_decrease=0.0, min_impurity_split=None,\n",
       "            min_samples_leaf=1, min_samples_split=2,\n",
       "            min_weight_fraction_leaf=0.0, n_estimators=100, n_jobs=None,\n",
       "            oob_score=False, random_state=101, verbose=0, warm_start=False)"
      ]
     },
     "execution_count": 58,
     "metadata": {},
     "output_type": "execute_result"
    }
   ],
   "source": [
    "rfc.fit(X_smote,y_smote)"
   ]
  },
  {
   "cell_type": "code",
   "execution_count": 59,
   "metadata": {},
   "outputs": [
    {
     "name": "stdout",
     "output_type": "stream",
     "text": [
      "[[3431  222]\n",
      " [ 207  178]]\n",
      "              precision    recall  f1-score   support\n",
      "\n",
      "           0       0.94      0.94      0.94      3653\n",
      "           1       0.45      0.46      0.45       385\n",
      "\n",
      "   micro avg       0.89      0.89      0.89      4038\n",
      "   macro avg       0.69      0.70      0.70      4038\n",
      "weighted avg       0.90      0.89      0.89      4038\n",
      "\n",
      "ROC AUC : 0.8647036237783567\n",
      "Accuracy : 0.8937592867756315\n"
     ]
    }
   ],
   "source": [
    "predict = rfc.predict(X_test)\n",
    "predictProb = rfc.predict_proba(X_test)\n",
    "\n",
    "print(confusion_matrix(y_test, predict))\n",
    "print(classification_report(y_test, predict))\n",
    "print('ROC AUC :', roc_auc_score(y_test, predictProb[:,1]))\n",
    "print('Accuracy :',accuracy_score(y_test, predict))"
   ]
  },
  {
   "cell_type": "markdown",
   "metadata": {},
   "source": [
    "# Gradien Boosting"
   ]
  },
  {
   "cell_type": "code",
   "execution_count": 60,
   "metadata": {},
   "outputs": [],
   "source": [
    "from sklearn.ensemble import GradientBoostingClassifier"
   ]
  },
  {
   "cell_type": "code",
   "execution_count": 75,
   "metadata": {},
   "outputs": [],
   "source": [
    "gbc = GradientBoostingClassifier(n_estimators=100, learning_rate=0.1)"
   ]
  },
  {
   "cell_type": "code",
   "execution_count": 76,
   "metadata": {},
   "outputs": [
    {
     "data": {
      "text/plain": [
       "GradientBoostingClassifier(criterion='friedman_mse', init=None,\n",
       "              learning_rate=0.1, loss='deviance', max_depth=3,\n",
       "              max_features=None, max_leaf_nodes=None,\n",
       "              min_impurity_decrease=0.0, min_impurity_split=None,\n",
       "              min_samples_leaf=1, min_samples_split=2,\n",
       "              min_weight_fraction_leaf=0.0, n_estimators=100,\n",
       "              n_iter_no_change=None, presort='auto', random_state=None,\n",
       "              subsample=1.0, tol=0.0001, validation_fraction=0.1,\n",
       "              verbose=0, warm_start=False)"
      ]
     },
     "execution_count": 76,
     "metadata": {},
     "output_type": "execute_result"
    }
   ],
   "source": [
    "gbc.fit(X_train, y_train)"
   ]
  },
  {
   "cell_type": "code",
   "execution_count": 63,
   "metadata": {},
   "outputs": [],
   "source": [
    "trainpredict = gbc.predict(X_train)\n",
    "trainpredictProb = gbc.predict_proba(X_train)"
   ]
  },
  {
   "cell_type": "code",
   "execution_count": 77,
   "metadata": {},
   "outputs": [
    {
     "name": "stdout",
     "output_type": "stream",
     "text": [
      "[[8410   37]\n",
      " [ 599  375]]\n",
      "              precision    recall  f1-score   support\n",
      "\n",
      "           0       0.93      1.00      0.96      8447\n",
      "           1       0.91      0.39      0.54       974\n",
      "\n",
      "   micro avg       0.93      0.93      0.93      9421\n",
      "   macro avg       0.92      0.69      0.75      9421\n",
      "weighted avg       0.93      0.93      0.92      9421\n",
      "\n",
      "ROC AUC : 0.9252554702117733\n"
     ]
    }
   ],
   "source": [
    "print(confusion_matrix(y_train, trainpredict))\n",
    "print(classification_report(y_train, trainpredict))\n",
    "print('ROC AUC :', roc_auc_score(y_train, trainpredictProb[:,1]))\n"
   ]
  },
  {
   "cell_type": "code",
   "execution_count": 78,
   "metadata": {},
   "outputs": [],
   "source": [
    "testpredict = gbc.predict(X_test)\n",
    "testpredictProb = gbc.predict_proba(X_test)"
   ]
  },
  {
   "cell_type": "code",
   "execution_count": 79,
   "metadata": {},
   "outputs": [
    {
     "name": "stdout",
     "output_type": "stream",
     "text": [
      "[[3599   54]\n",
      " [ 277  108]]\n",
      "              precision    recall  f1-score   support\n",
      "\n",
      "           0       0.93      0.99      0.96      3653\n",
      "           1       0.67      0.28      0.39       385\n",
      "\n",
      "   micro avg       0.92      0.92      0.92      4038\n",
      "   macro avg       0.80      0.63      0.68      4038\n",
      "weighted avg       0.90      0.92      0.90      4038\n",
      "\n",
      "ROC AUC : 0.873467102292725\n"
     ]
    }
   ],
   "source": [
    "print(confusion_matrix(y_test, testpredict))\n",
    "print(classification_report(y_test, testpredict))\n",
    "print('ROC AUC :', roc_auc_score(y_test, testpredictProb[:,1]))\n"
   ]
  },
  {
   "cell_type": "code",
   "execution_count": 87,
   "metadata": {},
   "outputs": [
    {
     "data": {
      "text/plain": [
       "<matplotlib.axes._subplots.AxesSubplot at 0x19f334b7b00>"
      ]
     },
     "execution_count": 87,
     "metadata": {},
     "output_type": "execute_result"
    },
    {
     "data": {
      "image/png": "[encoded data removed]",
      "text/plain": [
       "<Figure size 432x288 with 1 Axes>"
      ]
     },
     "metadata": {
      "needs_background": "light"
     },
     "output_type": "display_data"
    }
   ],
   "source": [
    "coef1 = pd.Series(gbc.feature_importances_, data.columns).sort_values(ascending = False).head(10)\n",
    "coef1.plot(kind='bar', title='Feature Importances')"
   ]
  },
  {
   "cell_type": "markdown",
   "metadata": {},
   "source": [
    "# XGBoost"
   ]
  },
  {
   "cell_type": "code",
   "execution_count": 80,
   "metadata": {},
   "outputs": [],
   "source": [
    "from xgboost import XGBClassifier"
   ]
  },
  {
   "cell_type": "code",
   "execution_count": 81,
   "metadata": {},
   "outputs": [],
   "source": [
    "xgb = XGBClassifier(n_estimators=100, learning_rate=0.1)"
   ]
  },
  {
   "cell_type": "code",
   "execution_count": 82,
   "metadata": {},
   "outputs": [
    {
     "data": {
      "text/plain": [
       "XGBClassifier(base_score=0.5, booster='gbtree', colsample_bylevel=1,\n",
       "       colsample_bytree=1, gamma=0, learning_rate=0.1, max_delta_step=0,\n",
       "       max_depth=3, min_child_weight=1, missing=None, n_estimators=100,\n",
       "       n_jobs=1, nthread=None, objective='binary:logistic', random_state=0,\n",
       "       reg_alpha=0, reg_lambda=1, scale_pos_weight=1, seed=None,\n",
       "       silent=True, subsample=1)"
      ]
     },
     "execution_count": 82,
     "metadata": {},
     "output_type": "execute_result"
    }
   ],
   "source": [
    "xgb.fit(X_train, y_train)"
   ]
  },
  {
   "cell_type": "code",
   "execution_count": 84,
   "metadata": {},
   "outputs": [],
   "source": [
    "trainpredict = xgb.predict(X_train)\n",
    "trainpredictProb = xgb.predict_proba(X_train)"
   ]
  },
  {
   "cell_type": "code",
   "execution_count": 85,
   "metadata": {},
   "outputs": [
    {
     "name": "stdout",
     "output_type": "stream",
     "text": [
      "[[8412   35]\n",
      " [ 644  330]]\n",
      "              precision    recall  f1-score   support\n",
      "\n",
      "           0       0.93      1.00      0.96      8447\n",
      "           1       0.90      0.34      0.49       974\n",
      "\n",
      "   micro avg       0.93      0.93      0.93      9421\n",
      "   macro avg       0.92      0.67      0.73      9421\n",
      "weighted avg       0.93      0.93      0.91      9421\n",
      "\n",
      "ROC AUC : 0.9207426108293554\n"
     ]
    }
   ],
   "source": [
    "print(confusion_matrix(y_train, trainpredict))\n",
    "print(classification_report(y_train, trainpredict))\n",
    "print('ROC AUC :', roc_auc_score(y_train, trainpredictProb[:,1]))"
   ]
  },
  {
   "cell_type": "code",
   "execution_count": 86,
   "metadata": {},
   "outputs": [
    {
     "data": {
      "text/plain": [
       "<matplotlib.axes._subplots.AxesSubplot at 0x19f31fee748>"
      ]
     },
     "execution_count": 86,
     "metadata": {},
     "output_type": "execute_result"
    },
    {
     "data": {
      "image/png": "[encoded data removed]",
      "text/plain": [
       "<Figure size 432x288 with 1 Axes>"
      ]
     },
     "metadata": {
      "needs_background": "light"
     },
     "output_type": "display_data"
    }
   ],
   "source": [
    "coef1 = pd.Series(xgb.feature_importances_, data.columns).sort_values(ascending = False).head(10)\n",
    "coef1.plot(kind='bar', title='Feature Importances')"
   ]
  },
  {
   "cell_type": "code",
   "execution_count": null,
   "metadata": {},
   "outputs": [],
   "source": []
  }
 ],
 "metadata": {
  "kernelspec": {
   "display_name": "Python 3",
   "language": "python",
   "name": "python3"
  },
  "language_info": {
   "codemirror_mode": {
    "name": "ipython",
    "version": 3
   },
   "file_extension": ".py",
   "mimetype": "text/x-python",
   "name": "python",
   "nbconvert_exporter": "python",
   "pygments_lexer": "ipython3",
   "version": "3.7.0"
  }
 },
 "nbformat": 4,
 "nbformat_minor": 2
}
